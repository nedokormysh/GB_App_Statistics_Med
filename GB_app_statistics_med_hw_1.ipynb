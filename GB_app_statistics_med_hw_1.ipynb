{
  "nbformat": 4,
  "nbformat_minor": 0,
  "metadata": {
    "colab": {
      "provenance": [],
      "authorship_tag": "ABX9TyPcqE948ygwEAU6ONETwTj/",
      "include_colab_link": true
    },
    "kernelspec": {
      "name": "ir",
      "display_name": "R"
    },
    "language_info": {
      "name": "R"
    }
  },
  "cells": [
    {
      "cell_type": "markdown",
      "metadata": {
        "id": "view-in-github",
        "colab_type": "text"
      },
      "source": [
        "<a href=\"https://colab.research.google.com/github/nedokormysh/GB_App_Statistics_Med/blob/lesson_1_plan/GB_app_statistics_med_hw_1.ipynb\" target=\"_parent\"><img src=\"https://colab.research.google.com/assets/colab-badge.svg\" alt=\"Open In Colab\"/></a>"
      ]
    },
    {
      "cell_type": "markdown",
      "source": [
        "Урок 1. Планирование эксперимента, типы клинических исследований, постановка гипотез и особенности сбора и хранения информации"
      ],
      "metadata": {
        "id": "RaqqwlBXbsH3"
      }
    },
    {
      "cell_type": "markdown",
      "source": [
        "# Условие\n",
        "\n",
        "Скачиваем приложенные файлы на ПК или загружаем в Google Colab. В данных файлах содержатся таблицы с клиническими данными пациентов и результатами их хроматограмм. Что необходимо сделать:\n",
        "- Изучить колонки в каждой таблице и их содержимое\n",
        "- Анонимизировать данные (разделить таблицу метаданных)\n",
        "- Предположить тип проводимого исследования\n",
        "- Предположить тип выборки пациентов и определить вид хотя бы 5-7 переменных и шкалу их измерения\n",
        "- Составить несколько (не менее трех) эмпирических гипотез, которые можно осмысленно проверить на этих данных.\n",
        "- Для тех, кто хочет заморочиться: сделайте описания к колонкам таблицы клинических значений из второго листа xlsx таблички :)\n",
        "\n",
        "Задание выполняется на языке R и предоставляется в формате Quarto ноутбука или Google Colab (последнее предпочтительно)."
      ],
      "metadata": {
        "id": "KoUOIgOv1z6D"
      }
    },
    {
      "cell_type": "code",
      "execution_count": null,
      "metadata": {
        "colab": {
          "base_uri": "https://localhost:8080/"
        },
        "id": "0C69HTh5oZaT",
        "outputId": "a3bb29a7-0abc-472b-f25c-0e41ef74767e"
      },
      "outputs": [
        {
          "output_type": "stream",
          "name": "stderr",
          "text": [
            "Installing package into ‘/usr/local/lib/R/site-library’\n",
            "(as ‘lib’ is unspecified)\n",
            "\n",
            "Installing package into ‘/usr/local/lib/R/site-library’\n",
            "(as ‘lib’ is unspecified)\n",
            "\n"
          ]
        }
      ],
      "source": [
        "install.packages('tidyverse')\n",
        "install.packages('dplyr')"
      ]
    },
    {
      "cell_type": "code",
      "source": [
        "library(dplyr)\n",
        "library(tidyverse)\n",
        "require(readxl)"
      ],
      "metadata": {
        "id": "poYJW19y0s44"
      },
      "execution_count": null,
      "outputs": []
    },
    {
      "cell_type": "markdown",
      "source": [
        "# Загрузка данных"
      ],
      "metadata": {
        "id": "xpM3XXfN16VG"
      }
    },
    {
      "cell_type": "code",
      "source": [
        "hdl <- read_tsv('/content/high_density_lipids.tsv') |>\n",
        "  select(-Name) %>%\n",
        "  mutate(Patient.number = as.factor(Patient.number),\n",
        "         Vial.number = as.factor(Vial.number))"
      ],
      "metadata": {
        "colab": {
          "base_uri": "https://localhost:8080/"
        },
        "id": "zrOeC5bK1R-s",
        "outputId": "9257495d-3d26-4d26-e567-07212d06e9d5"
      },
      "execution_count": null,
      "outputs": [
        {
          "output_type": "stream",
          "name": "stderr",
          "text": [
            "\u001b[1mRows: \u001b[22m\u001b[34m27\u001b[39m \u001b[1mColumns: \u001b[22m\u001b[34m38\u001b[39m\n",
            "\u001b[36m──\u001b[39m \u001b[1mColumn specification\u001b[22m \u001b[36m────────────────────────────────────────────────────────\u001b[39m\n",
            "\u001b[1mDelimiter:\u001b[22m \"\\t\"\n",
            "\u001b[31mchr\u001b[39m  (1): Name\n",
            "\u001b[32mdbl\u001b[39m (37): Vial.number, Patient.number, GPHDL1, GPHDL2, GPHDL3, GPHDL4, GPHDL...\n",
            "\n",
            "\u001b[36mℹ\u001b[39m Use `spec()` to retrieve the full column specification for this data.\n",
            "\u001b[36mℹ\u001b[39m Specify the column types or set `show_col_types = FALSE` to quiet this message.\n"
          ]
        }
      ]
    },
    {
      "cell_type": "code",
      "source": [
        "ldl <- read_tsv('/content/low_density_lipids.tsv') |>\n",
        "  select(-Name) %>%\n",
        "  mutate(Patient.number = as.factor(Patient.number),\n",
        "         Vial.number = as.factor(Vial.number))"
      ],
      "metadata": {
        "colab": {
          "base_uri": "https://localhost:8080/"
        },
        "id": "QWDtKwVz2bTr",
        "outputId": "c0263faa-b0c0-45dd-945a-a62a7b8b1daa"
      },
      "execution_count": null,
      "outputs": [
        {
          "output_type": "stream",
          "name": "stderr",
          "text": [
            "\u001b[1mRows: \u001b[22m\u001b[34m29\u001b[39m \u001b[1mColumns: \u001b[22m\u001b[34m38\u001b[39m\n",
            "\u001b[36m──\u001b[39m \u001b[1mColumn specification\u001b[22m \u001b[36m────────────────────────────────────────────────────────\u001b[39m\n",
            "\u001b[1mDelimiter:\u001b[22m \"\\t\"\n",
            "\u001b[31mchr\u001b[39m  (1): Name\n",
            "\u001b[32mdbl\u001b[39m (37): Vial.number, Patient.number, GPLDL1, GPLDL2, GPLDL3, GPLDL4, GPLDL...\n",
            "\n",
            "\u001b[36mℹ\u001b[39m Use `spec()` to retrieve the full column specification for this data.\n",
            "\u001b[36mℹ\u001b[39m Specify the column types or set `show_col_types = FALSE` to quiet this message.\n"
          ]
        }
      ]
    },
    {
      "cell_type": "markdown",
      "source": [
        "Объединённая таблица"
      ],
      "metadata": {
        "id": "ZNv2TqYTnO9V"
      }
    },
    {
      "cell_type": "code",
      "source": [
        "# colnames(hdl)"
      ],
      "metadata": {
        "id": "HSyGLe9pKdpS"
      },
      "execution_count": null,
      "outputs": []
    },
    {
      "cell_type": "code",
      "source": [
        "lipids <- full_join(hdl, ldl, by = c(\"Vial.number\", \"Patient.number\"))"
      ],
      "metadata": {
        "id": "6chdZ66fnRhM"
      },
      "execution_count": null,
      "outputs": []
    },
    {
      "cell_type": "code",
      "source": [
        "meta <- read_xlsx('/content/metadata.xlsx', sheet = 1) |>\n",
        "  rename_with(make.names)"
      ],
      "metadata": {
        "id": "lZIYYQA2Gpsg"
      },
      "execution_count": null,
      "outputs": []
    },
    {
      "cell_type": "code",
      "source": [
        "descriptive <- read_xlsx('/content/metadata.xlsx', sheet = 2) |>\n",
        "  rename('Variable' = '...1', 'Description' = '...2') |>\n",
        "  drop_na()"
      ],
      "metadata": {
        "id": "otCo4Rcdnekf"
      },
      "execution_count": null,
      "outputs": []
    },
    {
      "cell_type": "markdown",
      "source": [
        "Итого у нас 3 таблицы: объединённая lipids, meta, descriptive"
      ],
      "metadata": {
        "id": "OAY36vr3sPOO"
      }
    },
    {
      "cell_type": "markdown",
      "source": [
        "# Данные"
      ],
      "metadata": {
        "id": "P_TOn7PQsGtN"
      }
    },
    {
      "cell_type": "markdown",
      "source": [
        "## Lipids"
      ],
      "metadata": {
        "id": "bSm_ts7esKER"
      }
    },
    {
      "cell_type": "code",
      "source": [
        "head(lipids, 3)"
      ],
      "metadata": {
        "colab": {
          "base_uri": "https://localhost:8080/",
          "height": 212
        },
        "id": "LG8_QItlsdeP",
        "outputId": "5ad9c801-7900-4d14-bf33-97066497a929"
      },
      "execution_count": null,
      "outputs": [
        {
          "output_type": "display_data",
          "data": {
            "text/html": [
              "<table class=\"dataframe\">\n",
              "<caption>A tibble: 3 × 72</caption>\n",
              "<thead>\n",
              "\t<tr><th scope=col>Vial.number</th><th scope=col>Patient.number</th><th scope=col>GPHDL1</th><th scope=col>GPHDL2</th><th scope=col>GPHDL3</th><th scope=col>GPHDL4</th><th scope=col>GPHDL5</th><th scope=col>GPHDL6</th><th scope=col>GPHDL7</th><th scope=col>GPHDL8</th><th scope=col>⋯</th><th scope=col>G1.y</th><th scope=col>G2.y</th><th scope=col>G3.y</th><th scope=col>S0.y</th><th scope=col>S1.y</th><th scope=col>S2.y</th><th scope=col>S3.y</th><th scope=col>B.y</th><th scope=col>F.y</th><th scope=col>HM.y</th></tr>\n",
              "\t<tr><th scope=col>&lt;fct&gt;</th><th scope=col>&lt;fct&gt;</th><th scope=col>&lt;dbl&gt;</th><th scope=col>&lt;dbl&gt;</th><th scope=col>&lt;dbl&gt;</th><th scope=col>&lt;dbl&gt;</th><th scope=col>&lt;dbl&gt;</th><th scope=col>&lt;dbl&gt;</th><th scope=col>&lt;dbl&gt;</th><th scope=col>&lt;dbl&gt;</th><th scope=col>⋯</th><th scope=col>&lt;dbl&gt;</th><th scope=col>&lt;dbl&gt;</th><th scope=col>&lt;dbl&gt;</th><th scope=col>&lt;dbl&gt;</th><th scope=col>&lt;dbl&gt;</th><th scope=col>&lt;dbl&gt;</th><th scope=col>&lt;dbl&gt;</th><th scope=col>&lt;dbl&gt;</th><th scope=col>&lt;dbl&gt;</th><th scope=col>&lt;dbl&gt;</th></tr>\n",
              "</thead>\n",
              "<tbody>\n",
              "\t<tr><td>1</td><td>50</td><td>0.38</td><td>1.78</td><td>0.14</td><td>0.05</td><td>0.73</td><td>2.90</td><td>1.57</td><td>2.57</td><td>⋯</td><td>4.09</td><td>68.91</td><td>3.57</td><td>3.98</td><td>28.18</td><td>42.46</td><td>1.95</td><td>0.02</td><td>1.67</td><td>13.02</td></tr>\n",
              "\t<tr><td>3</td><td>52</td><td>0.43</td><td>1.30</td><td>0.23</td><td>0.05</td><td>0.59</td><td>2.62</td><td>1.62</td><td>3.86</td><td>⋯</td><td>5.16</td><td>68.22</td><td>3.11</td><td>4.64</td><td>30.43</td><td>39.86</td><td>1.56</td><td>0.02</td><td>1.69</td><td>14.16</td></tr>\n",
              "\t<tr><td>4</td><td>53</td><td>0.41</td><td>3.86</td><td>0.31</td><td>0.10</td><td>0.96</td><td>3.19</td><td>2.42</td><td>3.75</td><td>⋯</td><td>3.95</td><td>68.03</td><td>4.50</td><td>3.78</td><td>29.37</td><td>41.13</td><td>2.20</td><td>0.02</td><td>1.89</td><td>13.89</td></tr>\n",
              "</tbody>\n",
              "</table>\n"
            ],
            "text/markdown": "\nA tibble: 3 × 72\n\n| Vial.number &lt;fct&gt; | Patient.number &lt;fct&gt; | GPHDL1 &lt;dbl&gt; | GPHDL2 &lt;dbl&gt; | GPHDL3 &lt;dbl&gt; | GPHDL4 &lt;dbl&gt; | GPHDL5 &lt;dbl&gt; | GPHDL6 &lt;dbl&gt; | GPHDL7 &lt;dbl&gt; | GPHDL8 &lt;dbl&gt; | ⋯ ⋯ | G1.y &lt;dbl&gt; | G2.y &lt;dbl&gt; | G3.y &lt;dbl&gt; | S0.y &lt;dbl&gt; | S1.y &lt;dbl&gt; | S2.y &lt;dbl&gt; | S3.y &lt;dbl&gt; | B.y &lt;dbl&gt; | F.y &lt;dbl&gt; | HM.y &lt;dbl&gt; |\n|---|---|---|---|---|---|---|---|---|---|---|---|---|---|---|---|---|---|---|---|---|\n| 1 | 50 | 0.38 | 1.78 | 0.14 | 0.05 | 0.73 | 2.90 | 1.57 | 2.57 | ⋯ | 4.09 | 68.91 | 3.57 | 3.98 | 28.18 | 42.46 | 1.95 | 0.02 | 1.67 | 13.02 |\n| 3 | 52 | 0.43 | 1.30 | 0.23 | 0.05 | 0.59 | 2.62 | 1.62 | 3.86 | ⋯ | 5.16 | 68.22 | 3.11 | 4.64 | 30.43 | 39.86 | 1.56 | 0.02 | 1.69 | 14.16 |\n| 4 | 53 | 0.41 | 3.86 | 0.31 | 0.10 | 0.96 | 3.19 | 2.42 | 3.75 | ⋯ | 3.95 | 68.03 | 4.50 | 3.78 | 29.37 | 41.13 | 2.20 | 0.02 | 1.89 | 13.89 |\n\n",
            "text/latex": "A tibble: 3 × 72\n\\begin{tabular}{lllllllllllllllllllll}\n Vial.number & Patient.number & GPHDL1 & GPHDL2 & GPHDL3 & GPHDL4 & GPHDL5 & GPHDL6 & GPHDL7 & GPHDL8 & ⋯ & G1.y & G2.y & G3.y & S0.y & S1.y & S2.y & S3.y & B.y & F.y & HM.y\\\\\n <fct> & <fct> & <dbl> & <dbl> & <dbl> & <dbl> & <dbl> & <dbl> & <dbl> & <dbl> & ⋯ & <dbl> & <dbl> & <dbl> & <dbl> & <dbl> & <dbl> & <dbl> & <dbl> & <dbl> & <dbl>\\\\\n\\hline\n\t 1 & 50 & 0.38 & 1.78 & 0.14 & 0.05 & 0.73 & 2.90 & 1.57 & 2.57 & ⋯ & 4.09 & 68.91 & 3.57 & 3.98 & 28.18 & 42.46 & 1.95 & 0.02 & 1.67 & 13.02\\\\\n\t 3 & 52 & 0.43 & 1.30 & 0.23 & 0.05 & 0.59 & 2.62 & 1.62 & 3.86 & ⋯ & 5.16 & 68.22 & 3.11 & 4.64 & 30.43 & 39.86 & 1.56 & 0.02 & 1.69 & 14.16\\\\\n\t 4 & 53 & 0.41 & 3.86 & 0.31 & 0.10 & 0.96 & 3.19 & 2.42 & 3.75 & ⋯ & 3.95 & 68.03 & 4.50 & 3.78 & 29.37 & 41.13 & 2.20 & 0.02 & 1.89 & 13.89\\\\\n\\end{tabular}\n",
            "text/plain": [
              "  Vial.number Patient.number GPHDL1 GPHDL2 GPHDL3 GPHDL4 GPHDL5 GPHDL6 GPHDL7\n",
              "1 1           50             0.38   1.78   0.14   0.05   0.73   2.90   1.57  \n",
              "2 3           52             0.43   1.30   0.23   0.05   0.59   2.62   1.62  \n",
              "3 4           53             0.41   3.86   0.31   0.10   0.96   3.19   2.42  \n",
              "  GPHDL8 ⋯ G1.y G2.y  G3.y S0.y S1.y  S2.y  S3.y B.y  F.y  HM.y \n",
              "1 2.57   ⋯ 4.09 68.91 3.57 3.98 28.18 42.46 1.95 0.02 1.67 13.02\n",
              "2 3.86   ⋯ 5.16 68.22 3.11 4.64 30.43 39.86 1.56 0.02 1.69 14.16\n",
              "3 3.75   ⋯ 3.95 68.03 4.50 3.78 29.37 41.13 2.20 0.02 1.89 13.89"
            ]
          },
          "metadata": {}
        }
      ]
    },
    {
      "cell_type": "markdown",
      "source": [
        "Краткое статистическое описание таблицы"
      ],
      "metadata": {
        "id": "-e4ROqk9sjdi"
      }
    },
    {
      "cell_type": "code",
      "source": [
        "summary(lipids)"
      ],
      "metadata": {
        "colab": {
          "base_uri": "https://localhost:8080/",
          "height": 1000
        },
        "id": "PwawJLJWtWXv",
        "outputId": "cf76632f-2bfd-4306-a7a3-cb98b40c57f5"
      },
      "execution_count": null,
      "outputs": [
        {
          "output_type": "display_data",
          "data": {
            "text/plain": [
              "  Vial.number Patient.number     GPHDL1           GPHDL2          GPHDL3      \n",
              " 1      : 1   38     : 2     Min.   :0.3000   Min.   :1.300   Min.   :0.1400  \n",
              " 3      : 1   39     : 2     1st Qu.:0.4100   1st Qu.:1.970   1st Qu.:0.2050  \n",
              " 4      : 1   42     : 2     Median :0.4500   Median :2.380   Median :0.2300  \n",
              " 5      : 1   43     : 2     Mean   :0.4604   Mean   :2.432   Mean   :0.2407  \n",
              " 6      : 1   25     : 1     3rd Qu.:0.5100   3rd Qu.:2.900   3rd Qu.:0.2950  \n",
              " 7      : 1   30     : 1     Max.   :0.7233   Max.   :3.860   Max.   :0.4600  \n",
              " (Other):23   (Other):19     NA's   :2        NA's   :2       NA's   :2       \n",
              "     GPHDL4            GPHDL5           GPHDL6          GPHDL7     \n",
              " Min.   :0.03000   Min.   :0.5900   Min.   :2.270   Min.   :1.570  \n",
              " 1st Qu.:0.05000   1st Qu.:0.7500   1st Qu.:2.752   1st Qu.:1.715  \n",
              " Median :0.06000   Median :0.8400   Median :2.900   Median :2.067  \n",
              " Mean   :0.07006   Mean   :0.8518   Mean   :2.860   Mean   :2.112  \n",
              " 3rd Qu.:0.08000   3rd Qu.:0.9700   3rd Qu.:3.005   3rd Qu.:2.420  \n",
              " Max.   :0.17000   Max.   :1.1833   Max.   :3.190   Max.   :3.560  \n",
              " NA's   :2         NA's   :2        NA's   :2       NA's   :2      \n",
              "     GPHDL8          GPHDL9         GPHDL10         GPHDL11     \n",
              " Min.   :2.570   Min.   :4.200   Min.   :18.15   Min.   :3.050  \n",
              " 1st Qu.:3.070   1st Qu.:5.465   1st Qu.:19.80   1st Qu.:3.435  \n",
              " Median :3.510   Median :5.860   Median :21.22   Median :3.570  \n",
              " Mean   :3.483   Mean   :5.830   Mean   :20.98   Mean   :3.593  \n",
              " 3rd Qu.:3.805   3rd Qu.:6.235   3rd Qu.:21.93   3rd Qu.:3.762  \n",
              " Max.   :4.360   Max.   :7.230   Max.   :24.32   Max.   :4.330  \n",
              " NA's   :2       NA's   :2       NA's   :2       NA's   :2      \n",
              "    GPHDL12          GPHDL13         GPHDL14         GPHDL15     \n",
              " Min.   :0.2300   Min.   :4.650   Min.   :23.40   Min.   :2.230  \n",
              " 1st Qu.:0.5300   1st Qu.:6.162   1st Qu.:26.02   1st Qu.:2.595  \n",
              " Median :0.7100   Median :6.650   Median :26.66   Median :2.860  \n",
              " Mean   :0.6829   Mean   :6.563   Mean   :26.64   Mean   :2.854  \n",
              " 3rd Qu.:0.7850   3rd Qu.:6.885   3rd Qu.:27.54   3rd Qu.:3.030  \n",
              " Max.   :1.2200   Max.   :8.460   Max.   :29.87   Max.   :3.690  \n",
              " NA's   :2        NA's   :2       NA's   :2       NA's   :2      \n",
              "    GPHDL16         GPHDL17         GPHDL18         GPHDL19     \n",
              " Min.   :2.560   Min.   :0.930   Min.   :0.920   Min.   :1.670  \n",
              " 1st Qu.:3.140   1st Qu.:1.080   1st Qu.:1.130   1st Qu.:2.233  \n",
              " Median :3.320   Median :1.220   Median :1.410   Median :2.490  \n",
              " Mean   :3.338   Mean   :1.227   Mean   :1.329   Mean   :2.502  \n",
              " 3rd Qu.:3.560   3rd Qu.:1.340   3rd Qu.:1.540   3rd Qu.:2.810  \n",
              " Max.   :3.860   Max.   :1.720   Max.   :1.670   Max.   :3.190  \n",
              " NA's   :2       NA's   :2       NA's   :2       NA's   :2      \n",
              "    GPHDL20         GPHDL21         GPHDL22        sum_auc.x     \n",
              " Min.   :4.650   Min.   :1.450   Min.   :1.130   Min.   : 99.98  \n",
              " 1st Qu.:5.720   1st Qu.:1.750   1st Qu.:2.260   1st Qu.: 99.99  \n",
              " Median :6.800   Median :1.960   Median :3.030   Median : 99.99  \n",
              " Mean   :6.872   Mean   :2.016   Mean   :3.051   Mean   :100.00  \n",
              " 3rd Qu.:7.735   3rd Qu.:2.262   3rd Qu.:3.780   3rd Qu.:100.01  \n",
              " Max.   :9.220   Max.   :2.630   Max.   :5.280   Max.   :100.01  \n",
              " NA's   :2       NA's   :2       NA's   :2       NA's   :2       \n",
              "      LB.x            HB.x            G1.x            G2.x      \n",
              " Min.   :68.87   Min.   :14.41   Min.   :11.89   Min.   :56.02  \n",
              " 1st Qu.:71.81   1st Qu.:18.60   1st Qu.:13.15   1st Qu.:58.48  \n",
              " Median :73.22   Median :20.14   Median :13.73   Median :58.91  \n",
              " Mean   :72.95   Mean   :20.34   Mean   :13.80   Mean   :59.16  \n",
              " 3rd Qu.:74.09   3rd Qu.:22.25   3rd Qu.:14.69   3rd Qu.:59.62  \n",
              " Max.   :77.10   Max.   :25.78   Max.   :15.44   Max.   :62.10  \n",
              " NA's   :2       NA's   :2       NA's   :2       NA's   :2      \n",
              "      G3.x            S0.x            S1.x            S2.x      \n",
              " Min.   :12.74   Min.   :2.870   Min.   :29.13   Min.   :38.21  \n",
              " 1st Qu.:16.21   1st Qu.:3.010   1st Qu.:31.45   1st Qu.:40.95  \n",
              " Median :17.54   Median :3.750   Median :33.68   Median :41.78  \n",
              " Mean   :17.83   Mean   :3.735   Mean   :33.16   Mean   :41.95  \n",
              " 3rd Qu.:19.66   3rd Qu.:4.145   3rd Qu.:34.76   3rd Qu.:43.15  \n",
              " Max.   :22.70   Max.   :5.770   Max.   :37.03   Max.   :44.60  \n",
              " NA's   :2       NA's   :2       NA's   :2       NA's   :2      \n",
              "      S3.x            B.x               F.x              HM.x      \n",
              " Min.   : 7.93   Min.   :0.03000   Min.   : 4.640   Min.   :1.530  \n",
              " 1st Qu.:10.63   1st Qu.:0.05000   1st Qu.: 6.015   1st Qu.:2.700  \n",
              " Median :11.67   Median :0.06000   Median : 7.250   Median :3.025  \n",
              " Mean   :11.94   Mean   :0.07006   Mean   : 7.133   Mean   :3.115  \n",
              " 3rd Qu.:13.34   3rd Qu.:0.08000   3rd Qu.: 8.000   3rd Qu.:3.830  \n",
              " Max.   :16.46   Max.   :0.17000   Max.   :10.070   Max.   :5.080  \n",
              " NA's   :2       NA's   :2         NA's   :2        NA's   :2      \n",
              "     GPLDL1           GPLDL2          GPLDL3           GPLDL4       \n",
              " Min.   :0.2400   Min.   :6.500   Min.   :0.1400   Min.   :0.02000  \n",
              " 1st Qu.:0.3200   1st Qu.:7.370   1st Qu.:0.2200   1st Qu.:0.02000  \n",
              " Median :0.3900   Median :7.930   Median :0.2500   Median :0.02000  \n",
              " Mean   :0.3819   Mean   :7.858   Mean   :0.2583   Mean   :0.02845  \n",
              " 3rd Qu.:0.4400   3rd Qu.:8.260   3rd Qu.:0.3100   3rd Qu.:0.03000  \n",
              " Max.   :0.5200   Max.   :9.680   Max.   :0.3900   Max.   :0.06000  \n",
              "                                                                    \n",
              "     GPLDL5          GPLDL6          GPLDL7          GPLDL8     \n",
              " Min.   :0.870   Min.   :3.470   Min.   :1.990   Min.   :1.880  \n",
              " 1st Qu.:0.970   1st Qu.:3.830   1st Qu.:2.320   1st Qu.:2.380  \n",
              " Median :1.070   Median :4.100   Median :2.610   Median :2.740  \n",
              " Mean   :1.055   Mean   :4.117   Mean   :2.542   Mean   :2.672  \n",
              " 3rd Qu.:1.120   3rd Qu.:4.380   3rd Qu.:2.690   3rd Qu.:2.940  \n",
              " Max.   :1.250   Max.   :4.960   Max.   :3.330   Max.   :3.300  \n",
              "                                                                \n",
              "     GPLDL9         GPLDL10         GPLDL11         GPLDL12     \n",
              " Min.   :6.930   Min.   :22.82   Min.   :2.070   Min.   :1.540  \n",
              " 1st Qu.:7.290   1st Qu.:25.70   1st Qu.:2.260   1st Qu.:1.800  \n",
              " Median :7.670   Median :26.07   Median :2.370   Median :2.005  \n",
              " Mean   :7.761   Mean   :26.18   Mean   :2.387   Mean   :2.067  \n",
              " 3rd Qu.:7.960   3rd Qu.:26.64   3rd Qu.:2.500   3rd Qu.:2.260  \n",
              " Max.   :9.070   Max.   :30.77   Max.   :2.890   Max.   :2.860  \n",
              "                                                                \n",
              "    GPLDL13         GPLDL14         GPLDL15         GPLDL16     \n",
              " Min.   :2.550   Min.   :30.07   Min.   :0.590   Min.   :0.890  \n",
              " 1st Qu.:3.030   1st Qu.:33.38   1st Qu.:0.900   1st Qu.:1.020  \n",
              " Median :3.390   Median :33.92   Median :0.985   Median :1.300  \n",
              " Mean   :3.456   Mean   :33.95   Mean   :1.021   Mean   :1.307  \n",
              " 3rd Qu.:3.820   3rd Qu.:34.80   3rd Qu.:1.110   3rd Qu.:1.430  \n",
              " Max.   :4.940   Max.   :36.97   Max.   :1.340   Max.   :1.920  \n",
              "                                                                \n",
              "    GPLDL17           GPLDL18          GPLDL19          GPLDL20     \n",
              " Min.   :0.06000   Min.   :0.2400   Min.   :0.2700   Min.   :0.890  \n",
              " 1st Qu.:0.08000   1st Qu.:0.2900   1st Qu.:0.3400   1st Qu.:0.980  \n",
              " Median :0.09500   Median :0.3300   Median :0.3900   Median :1.210  \n",
              " Mean   :0.09707   Mean   :0.3383   Mean   :0.3986   Mean   :1.278  \n",
              " 3rd Qu.:0.11000   3rd Qu.:0.3600   3rd Qu.:0.4700   3rd Qu.:1.470  \n",
              " Max.   :0.16000   Max.   :0.5000   Max.   :0.6200   Max.   :2.010  \n",
              "                                                                    \n",
              "    GPLDL21          GPLDL22         sum_auc.y           LB.y      \n",
              " Min.   :0.2600   Min.   :0.1000   Min.   : 99.98   Min.   :68.06  \n",
              " 1st Qu.:0.3100   1st Qu.:0.3000   1st Qu.: 99.99   1st Qu.:71.13  \n",
              " Median :0.3700   Median :0.4500   Median :100.00   Median :71.71  \n",
              " Mean   :0.3776   Mean   :0.4736   Mean   :100.00   Mean   :71.54  \n",
              " 3rd Qu.:0.4100   3rd Qu.:0.6200   3rd Qu.:100.01   3rd Qu.:72.18  \n",
              " Max.   :0.6200   Max.   :0.9800   Max.   :100.02   Max.   :73.38  \n",
              "                                                                   \n",
              "      HB.y           G1.y            G2.y            G3.y           S0.y      \n",
              " Min.   :3.11   Min.   :3.270   Min.   :64.01   Min.   :3.11   Min.   :3.380  \n",
              " 1st Qu.:4.03   1st Qu.:4.000   1st Qu.:66.62   1st Qu.:4.03   1st Qu.:3.980  \n",
              " Median :4.28   Median :4.390   Median :67.40   Median :4.28   Median :4.335  \n",
              " Mean   :4.27   Mean   :4.395   Mean   :67.15   Mean   :4.27   Mean   :4.266  \n",
              " 3rd Qu.:4.64   3rd Qu.:4.710   3rd Qu.:67.78   3rd Qu.:4.64   3rd Qu.:4.560  \n",
              " Max.   :5.35   Max.   :5.280   Max.   :68.91   Max.   :5.35   Max.   :5.280  \n",
              "                                                                              \n",
              "      S1.y            S2.y            S3.y            B.y         \n",
              " Min.   :24.70   Min.   :35.45   Min.   :1.470   Min.   :0.02000  \n",
              " 1st Qu.:28.18   1st Qu.:39.91   1st Qu.:1.950   1st Qu.:0.02000  \n",
              " Median :28.57   Median :40.41   Median :2.185   Median :0.02000  \n",
              " Mean   :28.85   Mean   :40.56   Mean   :2.129   Mean   :0.02845  \n",
              " 3rd Qu.:29.37   3rd Qu.:41.21   3rd Qu.:2.340   3rd Qu.:0.03000  \n",
              " Max.   :33.52   Max.   :43.56   Max.   :2.650   Max.   :0.06000  \n",
              "                                                                  \n",
              "      F.y            HM.y      \n",
              " Min.   :1.24   Min.   :13.02  \n",
              " 1st Qu.:1.67   1st Qu.:13.42  \n",
              " Median :1.99   Median :14.11  \n",
              " Mean   :1.99   Mean   :14.04  \n",
              " 3rd Qu.:2.27   3rd Qu.:14.47  \n",
              " Max.   :2.99   Max.   :16.06  \n",
              "                               "
            ]
          },
          "metadata": {}
        }
      ]
    },
    {
      "cell_type": "code",
      "source": [
        "# colnames(lipids)"
      ],
      "metadata": {
        "id": "_-QiGWWbsvMq"
      },
      "execution_count": null,
      "outputs": []
    },
    {
      "cell_type": "markdown",
      "source": [
        "72 колонки. Первые 2 мы определили как факторы. Остальные являются числовыми колонками - double.\n",
        "\n",
        "Vial.number (номер пробирки) - номинальная (категориальная) переменная, содержащая номера пробирок, используемых для хранения и отслеживания образцов.\n",
        "\n",
        "Patient.number (номер пациента) - номинальная (категориальная) переменная, содержащая уникальные идентификаторы пациентов, используемые для отслеживания и связи информации о пациенте.\n",
        "\n",
        "*Остальные данные либо не удалось расшифровать, либо мои предположения о данных очень сомненительные.*\n",
        "\n",
        "GPHDL1, GPHDL2, ..., GPHDL8 и GPLDL, ... GPLDL8 - численные непрерывные данные с пиком хромотографии.Измеряются в единицах, соответствующих интенсивности сигнала хроматограммы, которая видимо выражается в единицах, зависящих от конкретного хроматографа и метода измерения.\n",
        "\n",
        "Предположительно у нас есть абсолютный ноль.\n",
        "\n",
        "sum_auc - непрервная величина, видимо площадь под графиком (хотя значения разнятся от 99 до 100 - может быть это проценты)\n",
        "\n",
        "G1, G2, G3, S0, S1, S2, S3, B, F, HM - непрерывные численные величины. Значений ниже нуля нет. Может быть это всё таки шкала отношений."
      ],
      "metadata": {
        "id": "T1umN2PKt1Tb"
      }
    },
    {
      "cell_type": "code",
      "source": [
        "# str(lipids)"
      ],
      "metadata": {
        "id": "OjJYhEEvtOrv"
      },
      "execution_count": null,
      "outputs": []
    },
    {
      "cell_type": "code",
      "source": [
        "# glimpse(lipids)"
      ],
      "metadata": {
        "id": "QrovpSBns_LG"
      },
      "execution_count": null,
      "outputs": []
    },
    {
      "cell_type": "markdown",
      "source": [
        "## Meta"
      ],
      "metadata": {
        "id": "f4vV_NXgP-vZ"
      }
    },
    {
      "cell_type": "code",
      "source": [
        "head(meta, 3)"
      ],
      "metadata": {
        "colab": {
          "base_uri": "https://localhost:8080/",
          "height": 282
        },
        "id": "mOo7BeiLQBy4",
        "outputId": "5d002956-3064-4d75-bdba-5278709f9d97"
      },
      "execution_count": null,
      "outputs": [
        {
          "output_type": "display_data",
          "data": {
            "text/html": [
              "<table class=\"dataframe\">\n",
              "<caption>A tibble: 3 × 49</caption>\n",
              "<thead>\n",
              "\t<tr><th scope=col>Vial.number</th><th scope=col>Patient.number</th><th scope=col>Sucrose</th><th scope=col>Name</th><th scope=col>Group</th><th scope=col>Date</th><th scope=col>Age</th><th scope=col>Plasma.volume</th><th scope=col>Ht</th><th scope=col>Wt</th><th scope=col>⋯</th><th scope=col>r.lat.max</th><th scope=col>r.ant.max</th><th scope=col>r.pos.max</th><th scope=col>l.lat.max</th><th scope=col>l.ant.max</th><th scope=col>l.pos.max</th><th scope=col>carotid.IMT.mean</th><th scope=col>Plaque</th><th scope=col>Statins</th><th scope=col>comorbidities</th></tr>\n",
              "\t<tr><th scope=col>&lt;dbl&gt;</th><th scope=col>&lt;dbl&gt;</th><th scope=col>&lt;dbl&gt;</th><th scope=col>&lt;chr&gt;</th><th scope=col>&lt;dbl&gt;</th><th scope=col>&lt;dttm&gt;</th><th scope=col>&lt;dbl&gt;</th><th scope=col>&lt;dbl&gt;</th><th scope=col>&lt;dbl&gt;</th><th scope=col>&lt;dbl&gt;</th><th scope=col>⋯</th><th scope=col>&lt;dbl&gt;</th><th scope=col>&lt;dbl&gt;</th><th scope=col>&lt;dbl&gt;</th><th scope=col>&lt;dbl&gt;</th><th scope=col>&lt;dbl&gt;</th><th scope=col>&lt;dbl&gt;</th><th scope=col>&lt;dbl&gt;</th><th scope=col>&lt;dbl&gt;</th><th scope=col>&lt;dbl&gt;</th><th scope=col>&lt;chr&gt;</th></tr>\n",
              "</thead>\n",
              "<tbody>\n",
              "\t<tr><td>1</td><td>50</td><td>0</td><td>Woodard, Dillon </td><td>0</td><td>2022-03-26</td><td>63</td><td>6.5</td><td>163</td><td> 84</td><td>⋯</td><td>0.65</td><td>0.80</td><td>0.80</td><td>0.81</td><td>0.78</td><td>0.80</td><td>0.6425</td><td>1</td><td>1</td><td>NA                                 </td></tr>\n",
              "\t<tr><td>2</td><td>51</td><td>0</td><td>Kuck, Breanna   </td><td>0</td><td>2023-12-23</td><td>47</td><td>5.5</td><td>179</td><td>111</td><td>⋯</td><td>1.03</td><td>0.92</td><td>1.03</td><td>1.03</td><td>1.03</td><td>1.09</td><td>0.8400</td><td>1</td><td>0</td><td>NA                                 </td></tr>\n",
              "\t<tr><td>3</td><td>52</td><td>0</td><td>Thomas, Terrance</td><td>1</td><td>2022-10-10</td><td>57</td><td>7.0</td><td>164</td><td> 80</td><td>⋯</td><td>1.00</td><td>0.90</td><td>0.95</td><td>0.85</td><td>0.90</td><td>0.90</td><td>0.8500</td><td>3</td><td>1</td><td>Type 2 diabetes mellitus; MI - 2016</td></tr>\n",
              "</tbody>\n",
              "</table>\n"
            ],
            "text/markdown": "\nA tibble: 3 × 49\n\n| Vial.number &lt;dbl&gt; | Patient.number &lt;dbl&gt; | Sucrose &lt;dbl&gt; | Name &lt;chr&gt; | Group &lt;dbl&gt; | Date &lt;dttm&gt; | Age &lt;dbl&gt; | Plasma.volume &lt;dbl&gt; | Ht &lt;dbl&gt; | Wt &lt;dbl&gt; | ⋯ ⋯ | r.lat.max &lt;dbl&gt; | r.ant.max &lt;dbl&gt; | r.pos.max &lt;dbl&gt; | l.lat.max &lt;dbl&gt; | l.ant.max &lt;dbl&gt; | l.pos.max &lt;dbl&gt; | carotid.IMT.mean &lt;dbl&gt; | Plaque &lt;dbl&gt; | Statins &lt;dbl&gt; | comorbidities &lt;chr&gt; |\n|---|---|---|---|---|---|---|---|---|---|---|---|---|---|---|---|---|---|---|---|---|\n| 1 | 50 | 0 | Woodard, Dillon  | 0 | 2022-03-26 | 63 | 6.5 | 163 |  84 | ⋯ | 0.65 | 0.80 | 0.80 | 0.81 | 0.78 | 0.80 | 0.6425 | 1 | 1 | NA                                  |\n| 2 | 51 | 0 | Kuck, Breanna    | 0 | 2023-12-23 | 47 | 5.5 | 179 | 111 | ⋯ | 1.03 | 0.92 | 1.03 | 1.03 | 1.03 | 1.09 | 0.8400 | 1 | 0 | NA                                  |\n| 3 | 52 | 0 | Thomas, Terrance | 1 | 2022-10-10 | 57 | 7.0 | 164 |  80 | ⋯ | 1.00 | 0.90 | 0.95 | 0.85 | 0.90 | 0.90 | 0.8500 | 3 | 1 | Type 2 diabetes mellitus; MI - 2016 |\n\n",
            "text/latex": "A tibble: 3 × 49\n\\begin{tabular}{lllllllllllllllllllll}\n Vial.number & Patient.number & Sucrose & Name & Group & Date & Age & Plasma.volume & Ht & Wt & ⋯ & r.lat.max & r.ant.max & r.pos.max & l.lat.max & l.ant.max & l.pos.max & carotid.IMT.mean & Plaque & Statins & comorbidities\\\\\n <dbl> & <dbl> & <dbl> & <chr> & <dbl> & <dttm> & <dbl> & <dbl> & <dbl> & <dbl> & ⋯ & <dbl> & <dbl> & <dbl> & <dbl> & <dbl> & <dbl> & <dbl> & <dbl> & <dbl> & <chr>\\\\\n\\hline\n\t 1 & 50 & 0 & Woodard, Dillon  & 0 & 2022-03-26 & 63 & 6.5 & 163 &  84 & ⋯ & 0.65 & 0.80 & 0.80 & 0.81 & 0.78 & 0.80 & 0.6425 & 1 & 1 & NA                                 \\\\\n\t 2 & 51 & 0 & Kuck, Breanna    & 0 & 2023-12-23 & 47 & 5.5 & 179 & 111 & ⋯ & 1.03 & 0.92 & 1.03 & 1.03 & 1.03 & 1.09 & 0.8400 & 1 & 0 & NA                                 \\\\\n\t 3 & 52 & 0 & Thomas, Terrance & 1 & 2022-10-10 & 57 & 7.0 & 164 &  80 & ⋯ & 1.00 & 0.90 & 0.95 & 0.85 & 0.90 & 0.90 & 0.8500 & 3 & 1 & Type 2 diabetes mellitus; MI - 2016\\\\\n\\end{tabular}\n",
            "text/plain": [
              "  Vial.number Patient.number Sucrose Name             Group Date       Age\n",
              "1 1           50             0       Woodard, Dillon  0     2022-03-26 63 \n",
              "2 2           51             0       Kuck, Breanna    0     2023-12-23 47 \n",
              "3 3           52             0       Thomas, Terrance 1     2022-10-10 57 \n",
              "  Plasma.volume Ht  Wt  ⋯ r.lat.max r.ant.max r.pos.max l.lat.max l.ant.max\n",
              "1 6.5           163  84 ⋯ 0.65      0.80      0.80      0.81      0.78     \n",
              "2 5.5           179 111 ⋯ 1.03      0.92      1.03      1.03      1.03     \n",
              "3 7.0           164  80 ⋯ 1.00      0.90      0.95      0.85      0.90     \n",
              "  l.pos.max carotid.IMT.mean Plaque Statins comorbidities                      \n",
              "1 0.80      0.6425           1      1       NA                                 \n",
              "2 1.09      0.8400           1      0       NA                                 \n",
              "3 0.90      0.8500           3      1       Type 2 diabetes mellitus; MI - 2016"
            ]
          },
          "metadata": {}
        }
      ]
    },
    {
      "cell_type": "code",
      "source": [
        "summary(meta)"
      ],
      "metadata": {
        "colab": {
          "base_uri": "https://localhost:8080/",
          "height": 1000
        },
        "id": "ZZpBKk8BQXMS",
        "outputId": "6d41fcd9-5584-4e4c-a637-a48dc660cfb8"
      },
      "execution_count": null,
      "outputs": [
        {
          "output_type": "display_data",
          "data": {
            "text/plain": [
              "  Vial.number    Patient.number     Sucrose           Name          \n",
              " Min.   : 1.00   Min.   :25.00   Min.   :0.0000   Length:38         \n",
              " 1st Qu.:10.25   1st Qu.:36.25   1st Qu.:0.0000   Class :character  \n",
              " Median :19.50   Median :41.50   Median :1.0000   Mode  :character  \n",
              " Mean   :19.50   Mean   :43.76   Mean   :0.6316                     \n",
              " 3rd Qu.:28.75   3rd Qu.:53.75   3rd Qu.:1.0000                     \n",
              " Max.   :38.00   Max.   :63.00   Max.   :1.0000                     \n",
              "                                                                    \n",
              "     Group             Date                             Age       \n",
              " Min.   :0.0000   Min.   :2022-01-01 00:00:00.00   Min.   :47.00  \n",
              " 1st Qu.:0.0000   1st Qu.:2022-05-16 12:00:00.00   1st Qu.:60.25  \n",
              " Median :1.0000   Median :2022-08-14 00:00:00.00   Median :65.00  \n",
              " Mean   :0.6316   Mean   :2022-10-18 10:06:18.95   Mean   :65.58  \n",
              " 3rd Qu.:1.0000   3rd Qu.:2023-03-14 00:00:00.00   3rd Qu.:70.00  \n",
              " Max.   :1.0000   Max.   :2023-12-23 00:00:00.00   Max.   :83.00  \n",
              "                                                                  \n",
              " Plasma.volume          Ht              Wt              BMI       \n",
              " Min.   : 5.000   Min.   :150.0   Min.   : 56.50   Min.   :20.28  \n",
              " 1st Qu.: 6.500   1st Qu.:161.0   1st Qu.: 63.25   1st Qu.:23.00  \n",
              " Median :10.250   Median :165.0   Median : 72.50   Median :27.68  \n",
              " Mean   : 9.453   Mean   :165.0   Mean   : 74.86   Mean   :27.55  \n",
              " 3rd Qu.:11.875   3rd Qu.:168.8   3rd Qu.: 83.50   3rd Qu.:30.29  \n",
              " Max.   :13.000   Max.   :180.0   Max.   :111.00   Max.   :38.87  \n",
              "                                                                  \n",
              "      Sys             Dia               PR              Sm         \n",
              " Min.   :100.0   Min.   : 57.00   Min.   :54.00   Min.   :0.00000  \n",
              " 1st Qu.:121.0   1st Qu.: 75.00   1st Qu.:68.00   1st Qu.:0.00000  \n",
              " Median :132.0   Median : 80.00   Median :73.00   Median :0.00000  \n",
              " Mean   :131.7   Mean   : 80.08   Mean   :73.66   Mean   :0.07895  \n",
              " 3rd Qu.:136.8   3rd Qu.: 85.75   3rd Qu.:78.75   3rd Qu.:0.00000  \n",
              " Max.   :188.0   Max.   :105.00   Max.   :92.00   Max.   :1.00000  \n",
              "                                                                   \n",
              "       Dm               HT              LVH              IHD     \n",
              " Min.   :0.0000   Min.   :0.0000   Min.   :0.0000   Min.   :0.0  \n",
              " 1st Qu.:0.0000   1st Qu.:0.0000   1st Qu.:0.0000   1st Qu.:0.0  \n",
              " Median :0.0000   Median :1.0000   Median :0.0000   Median :0.5  \n",
              " Mean   :0.1053   Mean   :0.6053   Mean   :0.3684   Mean   :0.5  \n",
              " 3rd Qu.:0.0000   3rd Qu.:1.0000   3rd Qu.:1.0000   3rd Qu.:1.0  \n",
              " Max.   :1.0000   Max.   :1.0000   Max.   :1.0000   Max.   :1.0  \n",
              "                                                                 \n",
              "       MI              Str               A_C              A_H        \n",
              " Min.   :0.0000   Min.   :0.00000   Min.   :0.0000   Min.   :0.0000  \n",
              " 1st Qu.:0.0000   1st Qu.:0.00000   1st Qu.:0.0000   1st Qu.:0.0000  \n",
              " Median :0.0000   Median :0.00000   Median :0.0000   Median :0.0000  \n",
              " Mean   :0.1053   Mean   :0.05263   Mean   :0.3947   Mean   :0.4211  \n",
              " 3rd Qu.:0.0000   3rd Qu.:0.00000   3rd Qu.:1.0000   3rd Qu.:1.0000  \n",
              " Max.   :1.0000   Max.   :1.00000   Max.   :1.0000   Max.   :1.0000  \n",
              "                                                                     \n",
              "      A_D           Choi...25        Tgi...26        HDLi...27     \n",
              " Min.   :0.0000   Min.   :164.0   Min.   : 35.00   Min.   : 38.60  \n",
              " 1st Qu.:0.0000   1st Qu.:208.5   1st Qu.: 82.75   1st Qu.: 51.45  \n",
              " Median :0.0000   Median :240.0   Median :115.50   Median : 62.40  \n",
              " Mean   :0.1842   Mean   :240.6   Mean   :123.39   Mean   : 63.80  \n",
              " 3rd Qu.:0.0000   3rd Qu.:270.0   3rd Qu.:145.25   3rd Qu.: 68.38  \n",
              " Max.   :1.0000   Max.   :322.0   Max.   :317.00   Max.   :108.00  \n",
              "                                                                   \n",
              "   LDLi...28       Choi...29        Tgi...30        HDLi...31    \n",
              " Min.   : 61.1   Min.   :4.260   Min.   :0.3846   Min.   :1.003  \n",
              " 1st Qu.:113.2   1st Qu.:5.416   1st Qu.:0.9093   1st Qu.:1.336  \n",
              " Median :152.0   Median :6.234   Median :1.2692   Median :1.621  \n",
              " Mean   :152.3   Mean   :6.249   Mean   :1.3560   Mean   :1.657  \n",
              " 3rd Qu.:188.0   3rd Qu.:7.013   3rd Qu.:1.5962   3rd Qu.:1.776  \n",
              " Max.   :236.0   Max.   :8.364   Max.   :3.4835   Max.   :2.805  \n",
              "                                                                 \n",
              "   LDLi...32           AI           r.lat.min        r.ant.min    \n",
              " Min.   :1.587   Min.   :0.5657   Min.   :0.4200   Min.   :0.460  \n",
              " 1st Qu.:2.942   1st Qu.:1.8497   1st Qu.:0.6050   1st Qu.:0.570  \n",
              " Median :3.948   Median :2.3405   Median :0.7000   Median :0.690  \n",
              " Mean   :3.957   Mean   :2.5670   Mean   :0.6816   Mean   :0.695  \n",
              " 3rd Qu.:4.883   3rd Qu.:3.2252   3rd Qu.:0.7475   3rd Qu.:0.800  \n",
              " Max.   :6.130   Max.   :4.4595   Max.   :1.0000   Max.   :1.030  \n",
              "                                                                  \n",
              "   r.pos.min        l.lat.min        l.ant.min        l.pos.min     \n",
              " Min.   :0.4600   Min.   :0.3700   Min.   :0.4400   Min.   :0.4100  \n",
              " 1st Qu.:0.6200   1st Qu.:0.5400   1st Qu.:0.5725   1st Qu.:0.6000  \n",
              " Median :0.7200   Median :0.7000   Median :0.6950   Median :0.7050  \n",
              " Mean   :0.7142   Mean   :0.6871   Mean   :0.6903   Mean   :0.7237  \n",
              " 3rd Qu.:0.8000   3rd Qu.:0.8000   3rd Qu.:0.8000   3rd Qu.:0.8000  \n",
              " Max.   :1.1000   Max.   :0.9000   Max.   :1.0000   Max.   :1.0000  \n",
              "                                                                    \n",
              "   r.lat.max        r.ant.max        r.pos.max        l.lat.max     \n",
              " Min.   :0.5600   Min.   :0.6200   Min.   :0.6500   Min.   :0.5800  \n",
              " 1st Qu.:0.7500   1st Qu.:0.8000   1st Qu.:0.8225   1st Qu.:0.8000  \n",
              " Median :0.9000   Median :0.9150   Median :0.9550   Median :0.8550  \n",
              " Mean   :0.8803   Mean   :0.9355   Mean   :0.9411   Mean   :0.8874  \n",
              " 3rd Qu.:1.0000   3rd Qu.:1.0300   3rd Qu.:1.0300   3rd Qu.:1.0225  \n",
              " Max.   :1.2500   Max.   :1.3200   Max.   :1.2500   Max.   :1.3200  \n",
              "                                                                    \n",
              "   l.ant.max        l.pos.max      carotid.IMT.mean     Plaque     \n",
              " Min.   :0.5600   Min.   :0.6000   Min.   :0.5833   Min.   :0.000  \n",
              " 1st Qu.:0.7425   1st Qu.:0.8125   1st Qu.:0.7202   1st Qu.:1.000  \n",
              " Median :0.8800   Median :0.9600   Median :0.8250   Median :2.000  \n",
              " Mean   :0.8887   Mean   :0.9650   Mean   :0.8075   Mean   :1.526  \n",
              " 3rd Qu.:1.0150   3rd Qu.:1.0900   3rd Qu.:0.8804   3rd Qu.:2.000  \n",
              " Max.   :1.3000   Max.   :1.6000   Max.   :1.0983   Max.   :3.000  \n",
              "                                                                   \n",
              "    Statins       comorbidities     \n",
              " Min.   :0.0000   Length:38         \n",
              " 1st Qu.:0.0000   Class :character  \n",
              " Median :0.0000   Mode  :character  \n",
              " Mean   :0.3514                     \n",
              " 3rd Qu.:1.0000                     \n",
              " Max.   :1.0000                     \n",
              " NA's   :1                          "
            ]
          },
          "metadata": {}
        }
      ]
    },
    {
      "cell_type": "markdown",
      "source": [
        "В данном наборе данных представлены сведения о пациентах, включая\n",
        "- номер пациента (Patient number),\n",
        "- сахароза в крови (Sucrose) - бинарная переменная,\n",
        "- фамилию и имя (Name),\n",
        "- группу (Group) - бинарная переменная наличия или отсутствия атеросклероза,\n",
        "- дату проведения исследования (Date) - предположительно дата проведения,\n",
        "- возраст (Age) - численная непрерывная величина, шкала отношений,\n",
        "- объем плазмы (Plasma volume) - численная непрерывная величина, есть абсолютный ноль,\n",
        "- рост (Ht) - численная непрерывная величина, шкала отношений,\n",
        "- вес (Wt) - численная непрерывная величина, шкала отношений,\n",
        "- индекс массы тела (BMI) - численная непрерывная величина, интервальная шкала,\n",
        "- систолическое и диастолическое артериальное давление (Sys, Dia) - численная непрерывная величина, шкала отношений,\n",
        "- частоту пульса (PR) - численная непрерывная величина, шкала отношений,\n",
        "- статус курения (Sm) - численная бинарная величина,\n",
        "- наличие сахарного диабета (Dm) - численная бинарная величина,\n",
        "- артериальную гипертензию (HT) - численная бинарная величина,\n",
        "- гипертрофию левого желудочка (LVH) - численная бинарная величина,-\n",
        "- ишемическую болезнь сердца (IHD) - - численная бинарная величина,\n",
        "- медицинский анамнез инфаркта миокарда (MI) - численная бинарная величина,\n",
        "- медицинский анамнез инсульта (Str) - численная бинарная величина,\n",
        "- семейный анамнез ишемической болезни сердца (A_C)- численная бинарная величина,\n",
        "- семейная анамнеза артериальной гипертензии (A_H) - численная бинарная величина,\n",
        "- семейная анамнеза сахарного диабета (A_D) - численная бинарная величина,\n",
        "А также результаты различных лабораторных тестов(численные непрерывные величины, шкала отношений,), таких как:\n",
        "- холестерин (Choi...25, Choi...29),\n",
        "- триглицериды (Tgi...26, Tgi...30),\n",
        "- липопротеины высокой плотности (HDLi...27, HDLi...31) и низкой плотности (LDLi...28, LDLi...32),\n",
        "- атерогенный индекс (AI),\n",
        "- HDLi - липопротеины высокой плотности (high density lipoprotein)\n",
        "- LDLi - липопротеины низкой плотности (low density lipoprotein)\n",
        "- AI - атерогенный индекс (atherogenicity index)\n",
        "- comorbidities - сопутствующие заболевания, текстовый формат\n",
        "\n",
        "*Остальные колонки - не определил*"
      ],
      "metadata": {
        "id": "or74J42AQa0r"
      }
    },
    {
      "cell_type": "markdown",
      "source": [
        "## Description"
      ],
      "metadata": {
        "id": "0lfIpGfYbRIB"
      }
    },
    {
      "cell_type": "code",
      "source": [
        "head(descriptive, 3)"
      ],
      "metadata": {
        "colab": {
          "base_uri": "https://localhost:8080/",
          "height": 192
        },
        "id": "AkxiCUnXbUcV",
        "outputId": "20f257f5-a785-437c-c808-df6c2455d614"
      },
      "execution_count": null,
      "outputs": [
        {
          "output_type": "display_data",
          "data": {
            "text/html": [
              "<table class=\"dataframe\">\n",
              "<caption>A tibble: 3 × 2</caption>\n",
              "<thead>\n",
              "\t<tr><th scope=col>Variable</th><th scope=col>Description</th></tr>\n",
              "\t<tr><th scope=col>&lt;chr&gt;</th><th scope=col>&lt;chr&gt;</th></tr>\n",
              "</thead>\n",
              "<tbody>\n",
              "\t<tr><td>Ht </td><td>growth         </td></tr>\n",
              "\t<tr><td>Wt </td><td>the weight     </td></tr>\n",
              "\t<tr><td>BMI</td><td>body mass index</td></tr>\n",
              "</tbody>\n",
              "</table>\n"
            ],
            "text/markdown": "\nA tibble: 3 × 2\n\n| Variable &lt;chr&gt; | Description &lt;chr&gt; |\n|---|---|\n| Ht  | growth          |\n| Wt  | the weight      |\n| BMI | body mass index |\n\n",
            "text/latex": "A tibble: 3 × 2\n\\begin{tabular}{ll}\n Variable & Description\\\\\n <chr> & <chr>\\\\\n\\hline\n\t Ht  & growth         \\\\\n\t Wt  & the weight     \\\\\n\t BMI & body mass index\\\\\n\\end{tabular}\n",
            "text/plain": [
              "  Variable Description    \n",
              "1 Ht       growth         \n",
              "2 Wt       the weight     \n",
              "3 BMI      body mass index"
            ]
          },
          "metadata": {}
        }
      ]
    },
    {
      "cell_type": "markdown",
      "source": [
        "Собственно, здесь название и описание колонок таблицы meta."
      ],
      "metadata": {
        "id": "lmaJEeShbfik"
      }
    },
    {
      "cell_type": "markdown",
      "source": [
        "# Анонимизация"
      ],
      "metadata": {
        "id": "6KF8nARGniwv"
      }
    },
    {
      "cell_type": "markdown",
      "source": [
        "Разделить метаданные на таблицу с данными пациентов и таблицу с клиническими данными."
      ],
      "metadata": {
        "id": "8LBH9bytoIdO"
      }
    },
    {
      "cell_type": "code",
      "source": [
        "head(meta, 3)"
      ],
      "metadata": {
        "colab": {
          "base_uri": "https://localhost:8080/",
          "height": 282
        },
        "id": "5RAayxrroQ_t",
        "outputId": "f7524b50-c1ed-4d27-96b6-48a71bc5c1f9"
      },
      "execution_count": null,
      "outputs": [
        {
          "output_type": "display_data",
          "data": {
            "text/html": [
              "<table class=\"dataframe\">\n",
              "<caption>A tibble: 3 × 49</caption>\n",
              "<thead>\n",
              "\t<tr><th scope=col>Vial.number</th><th scope=col>Patient.number</th><th scope=col>Sucrose</th><th scope=col>Name</th><th scope=col>Group</th><th scope=col>Date</th><th scope=col>Age</th><th scope=col>Plasma.volume</th><th scope=col>Ht</th><th scope=col>Wt</th><th scope=col>⋯</th><th scope=col>r.lat.max</th><th scope=col>r.ant.max</th><th scope=col>r.pos.max</th><th scope=col>l.lat.max</th><th scope=col>l.ant.max</th><th scope=col>l.pos.max</th><th scope=col>carotid.IMT.mean</th><th scope=col>Plaque</th><th scope=col>Statins</th><th scope=col>comorbidities</th></tr>\n",
              "\t<tr><th scope=col>&lt;dbl&gt;</th><th scope=col>&lt;dbl&gt;</th><th scope=col>&lt;dbl&gt;</th><th scope=col>&lt;chr&gt;</th><th scope=col>&lt;dbl&gt;</th><th scope=col>&lt;dttm&gt;</th><th scope=col>&lt;dbl&gt;</th><th scope=col>&lt;dbl&gt;</th><th scope=col>&lt;dbl&gt;</th><th scope=col>&lt;dbl&gt;</th><th scope=col>⋯</th><th scope=col>&lt;dbl&gt;</th><th scope=col>&lt;dbl&gt;</th><th scope=col>&lt;dbl&gt;</th><th scope=col>&lt;dbl&gt;</th><th scope=col>&lt;dbl&gt;</th><th scope=col>&lt;dbl&gt;</th><th scope=col>&lt;dbl&gt;</th><th scope=col>&lt;dbl&gt;</th><th scope=col>&lt;dbl&gt;</th><th scope=col>&lt;chr&gt;</th></tr>\n",
              "</thead>\n",
              "<tbody>\n",
              "\t<tr><td>1</td><td>50</td><td>0</td><td>Woodard, Dillon </td><td>0</td><td>2022-03-26</td><td>63</td><td>6.5</td><td>163</td><td> 84</td><td>⋯</td><td>0.65</td><td>0.80</td><td>0.80</td><td>0.81</td><td>0.78</td><td>0.80</td><td>0.6425</td><td>1</td><td>1</td><td>NA                                 </td></tr>\n",
              "\t<tr><td>2</td><td>51</td><td>0</td><td>Kuck, Breanna   </td><td>0</td><td>2023-12-23</td><td>47</td><td>5.5</td><td>179</td><td>111</td><td>⋯</td><td>1.03</td><td>0.92</td><td>1.03</td><td>1.03</td><td>1.03</td><td>1.09</td><td>0.8400</td><td>1</td><td>0</td><td>NA                                 </td></tr>\n",
              "\t<tr><td>3</td><td>52</td><td>0</td><td>Thomas, Terrance</td><td>1</td><td>2022-10-10</td><td>57</td><td>7.0</td><td>164</td><td> 80</td><td>⋯</td><td>1.00</td><td>0.90</td><td>0.95</td><td>0.85</td><td>0.90</td><td>0.90</td><td>0.8500</td><td>3</td><td>1</td><td>Type 2 diabetes mellitus; MI - 2016</td></tr>\n",
              "</tbody>\n",
              "</table>\n"
            ],
            "text/markdown": "\nA tibble: 3 × 49\n\n| Vial.number &lt;dbl&gt; | Patient.number &lt;dbl&gt; | Sucrose &lt;dbl&gt; | Name &lt;chr&gt; | Group &lt;dbl&gt; | Date &lt;dttm&gt; | Age &lt;dbl&gt; | Plasma.volume &lt;dbl&gt; | Ht &lt;dbl&gt; | Wt &lt;dbl&gt; | ⋯ ⋯ | r.lat.max &lt;dbl&gt; | r.ant.max &lt;dbl&gt; | r.pos.max &lt;dbl&gt; | l.lat.max &lt;dbl&gt; | l.ant.max &lt;dbl&gt; | l.pos.max &lt;dbl&gt; | carotid.IMT.mean &lt;dbl&gt; | Plaque &lt;dbl&gt; | Statins &lt;dbl&gt; | comorbidities &lt;chr&gt; |\n|---|---|---|---|---|---|---|---|---|---|---|---|---|---|---|---|---|---|---|---|---|\n| 1 | 50 | 0 | Woodard, Dillon  | 0 | 2022-03-26 | 63 | 6.5 | 163 |  84 | ⋯ | 0.65 | 0.80 | 0.80 | 0.81 | 0.78 | 0.80 | 0.6425 | 1 | 1 | NA                                  |\n| 2 | 51 | 0 | Kuck, Breanna    | 0 | 2023-12-23 | 47 | 5.5 | 179 | 111 | ⋯ | 1.03 | 0.92 | 1.03 | 1.03 | 1.03 | 1.09 | 0.8400 | 1 | 0 | NA                                  |\n| 3 | 52 | 0 | Thomas, Terrance | 1 | 2022-10-10 | 57 | 7.0 | 164 |  80 | ⋯ | 1.00 | 0.90 | 0.95 | 0.85 | 0.90 | 0.90 | 0.8500 | 3 | 1 | Type 2 diabetes mellitus; MI - 2016 |\n\n",
            "text/latex": "A tibble: 3 × 49\n\\begin{tabular}{lllllllllllllllllllll}\n Vial.number & Patient.number & Sucrose & Name & Group & Date & Age & Plasma.volume & Ht & Wt & ⋯ & r.lat.max & r.ant.max & r.pos.max & l.lat.max & l.ant.max & l.pos.max & carotid.IMT.mean & Plaque & Statins & comorbidities\\\\\n <dbl> & <dbl> & <dbl> & <chr> & <dbl> & <dttm> & <dbl> & <dbl> & <dbl> & <dbl> & ⋯ & <dbl> & <dbl> & <dbl> & <dbl> & <dbl> & <dbl> & <dbl> & <dbl> & <dbl> & <chr>\\\\\n\\hline\n\t 1 & 50 & 0 & Woodard, Dillon  & 0 & 2022-03-26 & 63 & 6.5 & 163 &  84 & ⋯ & 0.65 & 0.80 & 0.80 & 0.81 & 0.78 & 0.80 & 0.6425 & 1 & 1 & NA                                 \\\\\n\t 2 & 51 & 0 & Kuck, Breanna    & 0 & 2023-12-23 & 47 & 5.5 & 179 & 111 & ⋯ & 1.03 & 0.92 & 1.03 & 1.03 & 1.03 & 1.09 & 0.8400 & 1 & 0 & NA                                 \\\\\n\t 3 & 52 & 0 & Thomas, Terrance & 1 & 2022-10-10 & 57 & 7.0 & 164 &  80 & ⋯ & 1.00 & 0.90 & 0.95 & 0.85 & 0.90 & 0.90 & 0.8500 & 3 & 1 & Type 2 diabetes mellitus; MI - 2016\\\\\n\\end{tabular}\n",
            "text/plain": [
              "  Vial.number Patient.number Sucrose Name             Group Date       Age\n",
              "1 1           50             0       Woodard, Dillon  0     2022-03-26 63 \n",
              "2 2           51             0       Kuck, Breanna    0     2023-12-23 47 \n",
              "3 3           52             0       Thomas, Terrance 1     2022-10-10 57 \n",
              "  Plasma.volume Ht  Wt  ⋯ r.lat.max r.ant.max r.pos.max l.lat.max l.ant.max\n",
              "1 6.5           163  84 ⋯ 0.65      0.80      0.80      0.81      0.78     \n",
              "2 5.5           179 111 ⋯ 1.03      0.92      1.03      1.03      1.03     \n",
              "3 7.0           164  80 ⋯ 1.00      0.90      0.95      0.85      0.90     \n",
              "  l.pos.max carotid.IMT.mean Plaque Statins comorbidities                      \n",
              "1 0.80      0.6425           1      1       NA                                 \n",
              "2 1.09      0.8400           1      0       NA                                 \n",
              "3 0.90      0.8500           3      1       Type 2 diabetes mellitus; MI - 2016"
            ]
          },
          "metadata": {}
        }
      ]
    },
    {
      "cell_type": "code",
      "source": [
        "colnames(meta)"
      ],
      "metadata": {
        "colab": {
          "base_uri": "https://localhost:8080/",
          "height": 69
        },
        "id": "yF-AJshMb7fg",
        "outputId": "01000d94-8876-4752-d486-7a4e679110f0"
      },
      "execution_count": null,
      "outputs": [
        {
          "output_type": "display_data",
          "data": {
            "text/html": [
              "<style>\n",
              ".list-inline {list-style: none; margin:0; padding: 0}\n",
              ".list-inline>li {display: inline-block}\n",
              ".list-inline>li:not(:last-child)::after {content: \"\\00b7\"; padding: 0 .5ex}\n",
              "</style>\n",
              "<ol class=list-inline><li>'Vial.number'</li><li>'Patient.number'</li><li>'Sucrose'</li><li>'Name'</li><li>'Group'</li><li>'Date'</li><li>'Age'</li><li>'Plasma.volume'</li><li>'Ht'</li><li>'Wt'</li><li>'BMI'</li><li>'Sys'</li><li>'Dia'</li><li>'PR'</li><li>'Sm'</li><li>'Dm'</li><li>'HT'</li><li>'LVH'</li><li>'IHD'</li><li>'MI'</li><li>'Str'</li><li>'A_C'</li><li>'A_H'</li><li>'A_D'</li><li>'Choi...25'</li><li>'Tgi...26'</li><li>'HDLi...27'</li><li>'LDLi...28'</li><li>'Choi...29'</li><li>'Tgi...30'</li><li>'HDLi...31'</li><li>'LDLi...32'</li><li>'AI'</li><li>'r.lat.min'</li><li>'r.ant.min'</li><li>'r.pos.min'</li><li>'l.lat.min'</li><li>'l.ant.min'</li><li>'l.pos.min'</li><li>'r.lat.max'</li><li>'r.ant.max'</li><li>'r.pos.max'</li><li>'l.lat.max'</li><li>'l.ant.max'</li><li>'l.pos.max'</li><li>'carotid.IMT.mean'</li><li>'Plaque'</li><li>'Statins'</li><li>'comorbidities'</li></ol>\n"
            ],
            "text/markdown": "1. 'Vial.number'\n2. 'Patient.number'\n3. 'Sucrose'\n4. 'Name'\n5. 'Group'\n6. 'Date'\n7. 'Age'\n8. 'Plasma.volume'\n9. 'Ht'\n10. 'Wt'\n11. 'BMI'\n12. 'Sys'\n13. 'Dia'\n14. 'PR'\n15. 'Sm'\n16. 'Dm'\n17. 'HT'\n18. 'LVH'\n19. 'IHD'\n20. 'MI'\n21. 'Str'\n22. 'A_C'\n23. 'A_H'\n24. 'A_D'\n25. 'Choi...25'\n26. 'Tgi...26'\n27. 'HDLi...27'\n28. 'LDLi...28'\n29. 'Choi...29'\n30. 'Tgi...30'\n31. 'HDLi...31'\n32. 'LDLi...32'\n33. 'AI'\n34. 'r.lat.min'\n35. 'r.ant.min'\n36. 'r.pos.min'\n37. 'l.lat.min'\n38. 'l.ant.min'\n39. 'l.pos.min'\n40. 'r.lat.max'\n41. 'r.ant.max'\n42. 'r.pos.max'\n43. 'l.lat.max'\n44. 'l.ant.max'\n45. 'l.pos.max'\n46. 'carotid.IMT.mean'\n47. 'Plaque'\n48. 'Statins'\n49. 'comorbidities'\n\n\n",
            "text/latex": "\\begin{enumerate*}\n\\item 'Vial.number'\n\\item 'Patient.number'\n\\item 'Sucrose'\n\\item 'Name'\n\\item 'Group'\n\\item 'Date'\n\\item 'Age'\n\\item 'Plasma.volume'\n\\item 'Ht'\n\\item 'Wt'\n\\item 'BMI'\n\\item 'Sys'\n\\item 'Dia'\n\\item 'PR'\n\\item 'Sm'\n\\item 'Dm'\n\\item 'HT'\n\\item 'LVH'\n\\item 'IHD'\n\\item 'MI'\n\\item 'Str'\n\\item 'A\\_C'\n\\item 'A\\_H'\n\\item 'A\\_D'\n\\item 'Choi...25'\n\\item 'Tgi...26'\n\\item 'HDLi...27'\n\\item 'LDLi...28'\n\\item 'Choi...29'\n\\item 'Tgi...30'\n\\item 'HDLi...31'\n\\item 'LDLi...32'\n\\item 'AI'\n\\item 'r.lat.min'\n\\item 'r.ant.min'\n\\item 'r.pos.min'\n\\item 'l.lat.min'\n\\item 'l.ant.min'\n\\item 'l.pos.min'\n\\item 'r.lat.max'\n\\item 'r.ant.max'\n\\item 'r.pos.max'\n\\item 'l.lat.max'\n\\item 'l.ant.max'\n\\item 'l.pos.max'\n\\item 'carotid.IMT.mean'\n\\item 'Plaque'\n\\item 'Statins'\n\\item 'comorbidities'\n\\end{enumerate*}\n",
            "text/plain": [
              " [1] \"Vial.number\"      \"Patient.number\"   \"Sucrose\"          \"Name\"            \n",
              " [5] \"Group\"            \"Date\"             \"Age\"              \"Plasma.volume\"   \n",
              " [9] \"Ht\"               \"Wt\"               \"BMI\"              \"Sys\"             \n",
              "[13] \"Dia\"              \"PR\"               \"Sm\"               \"Dm\"              \n",
              "[17] \"HT\"               \"LVH\"              \"IHD\"              \"MI\"              \n",
              "[21] \"Str\"              \"A_C\"              \"A_H\"              \"A_D\"             \n",
              "[25] \"Choi...25\"        \"Tgi...26\"         \"HDLi...27\"        \"LDLi...28\"       \n",
              "[29] \"Choi...29\"        \"Tgi...30\"         \"HDLi...31\"        \"LDLi...32\"       \n",
              "[33] \"AI\"               \"r.lat.min\"        \"r.ant.min\"        \"r.pos.min\"       \n",
              "[37] \"l.lat.min\"        \"l.ant.min\"        \"l.pos.min\"        \"r.lat.max\"       \n",
              "[41] \"r.ant.max\"        \"r.pos.max\"        \"l.lat.max\"        \"l.ant.max\"       \n",
              "[45] \"l.pos.max\"        \"carotid.IMT.mean\" \"Plaque\"           \"Statins\"         \n",
              "[49] \"comorbidities\"   "
            ]
          },
          "metadata": {}
        }
      ]
    },
    {
      "cell_type": "markdown",
      "source": [
        "Не совсем понял куда нужно поместить Sucrose."
      ],
      "metadata": {
        "id": "baWnnAh6gtMv"
      }
    },
    {
      "cell_type": "code",
      "source": [
        "# Выбираем столбцы с данными пациентов\n",
        "patient_cols <- c('Vial.number',\n",
        "                  'Patient.number',\n",
        "                  'Sucrose',\n",
        "                  'Name',\n",
        "                  'Group',\n",
        "                  'Date',\n",
        "                  'Age',\n",
        "                  'Ht',\n",
        "                  'Wt',\n",
        "                  'BMI')\n",
        "\n",
        "# Выбираем столбцы с клиническими данными\n",
        "clinical_cols <- c('Vial.number', 'Patient.number', 'Plasma.volume',\n",
        "                   'Sys', 'Dia', 'PR', 'Sm', 'Dm', 'HT', 'LVH', 'IHD', 'MI',\n",
        "                   'Str', 'A_C', 'A_H', 'A_D', 'Choi...25', 'Tgi...26',\n",
        "                   'HDLi...27', 'LDLi...28', 'Choi...29', 'Tgi...30',\n",
        "                   'HDLi...31', 'LDLi...32', 'AI', 'r.lat.min', 'r.ant.min',\n",
        "                   'r.pos.min', 'l.lat.min', 'l.ant.min', 'l.pos.min',\n",
        "                   'r.lat.max', 'r.ant.max', 'r.pos.max', 'l.lat.max',\n",
        "                   'l.ant.max', 'l.pos.max', 'carotid.IMT.mean', 'Plaque',\n",
        "                   'Statins', 'comorbidities')\n",
        "\n",
        "# Создаем таблицу с данными пациентов\n",
        "patient_data <- meta[patient_cols]\n",
        "\n",
        "# Создаем таблицу с клиническими данными\n",
        "clinical_data <- meta[clinical_cols]\n",
        "\n",
        "# Сохраняем таблицы в виде отдельных файлов\n",
        "write.csv(patient_data, file = 'patient_data.csv', row.names = FALSE)\n",
        "write.csv(clinical_data, file = 'clinical_data.csv', row.names = FALSE)"
      ],
      "metadata": {
        "id": "vhy3ihLNe8sA"
      },
      "execution_count": null,
      "outputs": []
    },
    {
      "cell_type": "markdown",
      "source": [
        "# Тип проводимого исследования"
      ],
      "metadata": {
        "id": "OjqH5nvihImS"
      }
    },
    {
      "cell_type": "markdown",
      "source": [
        "*Не очень понял как подходить к этой части.*"
      ],
      "metadata": {
        "id": "kHcWE8UFoPRr"
      }
    },
    {
      "cell_type": "markdown",
      "source": [
        "Предположительно у нас не экспериментальное исследование, а обсервационное. Т.е. в эксперименте мы вроде бы должны иметь, например, лекарство и проводить эксперимент по применению. Т.е. экспериментального воздействия на наши группы в данных не обнаружил.\n",
        "\n",
        "Здесь у нас видимо обсервационное исседование атеросклероза (большое развёрнутое описание по этим группам есть в нашем excel). Предположительно это не просто дескриптивное исследование. (Не знаю почему: у нас слишком маленькая выборка, но в ней преобладают пациенты с атеросклерозом, на субъективном ощущении так не должно было быть.)\n",
        "\n",
        "Когортное исследование: должны взять выборку людей, без проявления болезни. А затем смотрим проявилось или нет. И опять же вроде бы, если бы мы случайно взяли выборку людей с определёнными данными, то всё равно слишком много людей с данной болезнью проявилось.\n",
        "\n",
        "Случай-контроль: набираем людей и смотрим, что могло к этому привести. В принципе, мне кажется, что это подходит. Т.е. мы уже взяли людей, и смотрим на анамнез.\n",
        "\n",
        "Поперечные исследования: вероятно тоже подходят. Но немного много факторов изучаем. Как мне кажется, тогда получаем слишком много групп болезнь-фактор.\n",
        "\n",
        "Поэтому вроде бы больше подходит случай-контроль.\n"
      ],
      "metadata": {
        "id": "N_Zy39j3hJ7I"
      }
    },
    {
      "cell_type": "markdown",
      "source": [
        "# Тип выборки пациентов"
      ],
      "metadata": {
        "id": "HOGk6K8or6MF"
      }
    },
    {
      "cell_type": "markdown",
      "source": [
        "Т.к. предположил, что у нас вариант исследования: случай - контроль, то у нас не рандомизированное контролируемое исследование.\n",
        "\n",
        "Контрольная группа просто из условия отсутствия заболевания. Может быть можно сказать, что была стратификация, всё таки в нашей выборке нет молодых людей (у нас все старше 47)."
      ],
      "metadata": {
        "id": "izT5nQ_ZtIhi"
      }
    },
    {
      "cell_type": "markdown",
      "source": [
        "Описание колонок производил выше, когда рассматривал данные."
      ],
      "metadata": {
        "id": "FrzMyYcRveJa"
      }
    },
    {
      "cell_type": "code",
      "source": [
        "# meta['Age']"
      ],
      "metadata": {
        "id": "1uPSF0-TulUb"
      },
      "execution_count": null,
      "outputs": []
    },
    {
      "cell_type": "markdown",
      "source": [
        "# Эмпирические гипотезы"
      ],
      "metadata": {
        "id": "R2nPUabkqhL3"
      }
    },
    {
      "cell_type": "markdown",
      "source": [
        "Не врач, возможно мои гипотезы глупы."
      ],
      "metadata": {
        "id": "2dzW-QPbra6j"
      }
    },
    {
      "cell_type": "markdown",
      "source": [
        "**Гипотеза 1:**\n",
        "\n",
        "У пациентов с сахарным диабетом (Dm=1) средний уровень триглицеридов (Tgi) выше, чем у пациентов без сахарного диабета (Dm=0).\n",
        "\n",
        "Нулевая гипотеза (H0): Средний уровень триглицеридов у пациентов с сахарным диабетом равен среднему уровню триглицеридов у пациентов без сахарного диабета.\n",
        "\n",
        "Альтернативная гипотеза (H1): Средний уровень триглицеридов у пациентов с сахарным диабетом выше, чем средний уровень триглицеридов у пациентов без сахарного диабета.\n",
        "\n",
        "**Гипотеза 2:**\n",
        "\n",
        "У пациентов с гипертонией (HT=1) средний уровень холестерина (Choi) выше, чем у пациентов без гипертонии (HT=0).\n",
        "Нулевая гипотеза (H0): Средний уровень холестерина у пациентов с гипертонией равен среднему уровню холестерина у пациентов без гипертонии.\n",
        "\n",
        "Альтернативная гипотеза (H1): Средний уровень холестерина у пациентов с гипертонией выше, чем средний уровень холестерина у пациентов без гипертонии.\n",
        "\n",
        "**Гипотеза 3:**\n",
        "\n",
        "У пациентов, принимающих статины (Statins=1), средний уровень липопротеинов низкой плотности (LDLi) ниже, чем у пациентов, не принимающих статины (Statins=0).\n",
        "\n",
        "Нулевая гипотеза (H0): Средний уровень липопротеинов низкой плотности у пациентов, принимающих статины, равен среднему уровню липопротеинов низкой плотности у пациентов, не принимающих статины.\n",
        "\n",
        "Альтернативная гипотеза (H1): Средний уровень липопротеинов низкой плотности у пациентов, принимающих статины, ниже, чем средний уровень липопротеинов низкой плотности у пациентов, не принимающих статины."
      ],
      "metadata": {
        "id": "cc--3n25qi6K"
      }
    }
  ]
}