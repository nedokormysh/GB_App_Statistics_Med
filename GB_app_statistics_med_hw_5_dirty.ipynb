{
  "nbformat": 4,
  "nbformat_minor": 0,
  "metadata": {
    "colab": {
      "provenance": [],
      "authorship_tag": "ABX9TyOhSK5zIFYQdi7UFnNBVuKH",
      "include_colab_link": true
    },
    "kernelspec": {
      "name": "ir",
      "display_name": "R"
    },
    "language_info": {
      "name": "R"
    }
  },
  "cells": [
    {
      "cell_type": "markdown",
      "metadata": {
        "id": "view-in-github",
        "colab_type": "text"
      },
      "source": [
        "<a href=\"https://colab.research.google.com/github/nedokormysh/GB_App_Statistics_Med/blob/lesson_5_resampling/GB_app_statistics_med_hw_5_dirty.ipynb\" target=\"_parent\"><img src=\"https://colab.research.google.com/assets/colab-badge.svg\" alt=\"Open In Colab\"/></a>"
      ]
    },
    {
      "cell_type": "markdown",
      "source": [
        "Урок 5.\n",
        "Пермутационный тест, бутстрап анализ"
      ],
      "metadata": {
        "id": "VdmxqaM9goms"
      }
    },
    {
      "cell_type": "markdown",
      "source": [
        "# Условие\n",
        "Ранее мы выяснили, что размеры выборок в имеющихся данных малы.\n",
        "\n",
        "Попробуйте протестировать несколько гипотез из предыдущих заданий с использованием материала, полученного на этом занятии. Изменились ли результаты?\n",
        "\n",
        "Задание выполняется на языке R и предоставляется в Google Colab или PDF/html рендере Quarto."
      ],
      "metadata": {
        "id": "J-7sdf_8gjPd"
      }
    },
    {
      "cell_type": "code",
      "source": [
        "packageVersion(\"rlang\")\n",
        "packageVersion(\"tidyverse\")\n",
        "packageVersion(\"dplyr\")\n"
      ],
      "metadata": {
        "colab": {
          "base_uri": "https://localhost:8080/",
          "height": 69
        },
        "id": "8u3G1kF0lwLU",
        "outputId": "1cfc5fc1-e01b-47e1-b432-fa89cd8af8e3"
      },
      "execution_count": null,
      "outputs": [
        {
          "output_type": "display_data",
          "data": {
            "text/plain": [
              "[1] ‘1.0.1’"
            ]
          },
          "metadata": {}
        },
        {
          "output_type": "display_data",
          "data": {
            "text/plain": [
              "[1] ‘1.3.1’"
            ]
          },
          "metadata": {}
        },
        {
          "output_type": "display_data",
          "data": {
            "text/plain": [
              "[1] ‘1.0.8’"
            ]
          },
          "metadata": {}
        }
      ]
    },
    {
      "cell_type": "code",
      "source": [
        "install.packages('skimr')\n",
        "install.packages(\"boot\")\n",
        "install.packages(\"bootstrap\")\n",
        "# install.packages('psych')"
      ],
      "metadata": {
        "colab": {
          "base_uri": "https://localhost:8080/"
        },
        "id": "CVUA4eAYf4xJ",
        "outputId": "f16ef066-7d97-40e8-ff4c-d9734f01a2ca"
      },
      "execution_count": null,
      "outputs": [
        {
          "output_type": "stream",
          "name": "stderr",
          "text": [
            "Installing package into ‘/usr/local/lib/R/site-library’\n",
            "(as ‘lib’ is unspecified)\n",
            "\n",
            "Installing package into ‘/usr/local/lib/R/site-library’\n",
            "(as ‘lib’ is unspecified)\n",
            "\n",
            "Installing package into ‘/usr/local/lib/R/site-library’\n",
            "(as ‘lib’ is unspecified)\n",
            "\n"
          ]
        }
      ]
    },
    {
      "cell_type": "code",
      "source": [
        "library(tidyverse)\n",
        "library(dplyr)\n",
        "require(readxl)\n",
        "library(httr)\n",
        "library(skimr)\n",
        "library(\"boot\")\n",
        "library(\"bootstrap\")"
      ],
      "metadata": {
        "id": "hcFmq1gtjhq9"
      },
      "execution_count": null,
      "outputs": []
    },
    {
      "cell_type": "markdown",
      "source": [
        "# Загрузка данных"
      ],
      "metadata": {
        "id": "VtmuTf_g4o9X"
      }
    },
    {
      "cell_type": "code",
      "source": [
        "hdl <- read_tsv('https://raw.githubusercontent.com/nedokormysh/GB_App_Statistics_Med/lesson_2_descriptive_statistics/high_density_lipids.tsv') |>\n",
        "  select(-Name) |>\n",
        "  mutate(Patient.number = as.factor(Patient.number),\n",
        "         Vial.number = as.factor(Vial.number))\n",
        "\n",
        "ldl <- read_tsv('https://raw.githubusercontent.com/nedokormysh/GB_App_Statistics_Med/lesson_2_descriptive_statistics/low_density_lipids.tsv') |>\n",
        "  select(-Name) |>\n",
        "  mutate(Patient.number = as.factor(Patient.number),\n",
        "         Vial.number = as.factor(Vial.number))\n",
        "\n",
        "# lipids <- full_join(hdl, ldl, by = c(\"Vial.number\", \"Patient.number\"),\n",
        "#  suffix = c('hdl', 'ldl'))\n",
        "\n",
        "lipids <- merge(hdl, ldl, by = c(\"Vial.number\", \"Patient.number\"),\n",
        "                all = TRUE, suffix = c('_hdl', '_ldl'))"
      ],
      "metadata": {
        "colab": {
          "base_uri": "https://localhost:8080/"
        },
        "id": "7d5sglSnj4Qa",
        "outputId": "be95c692-9135-4d4e-ad18-e452e3690656"
      },
      "execution_count": null,
      "outputs": [
        {
          "output_type": "stream",
          "name": "stderr",
          "text": [
            "\u001b[1mRows: \u001b[22m\u001b[34m27\u001b[39m \u001b[1mColumns: \u001b[22m\u001b[34m38\u001b[39m\n",
            "\u001b[36m──\u001b[39m \u001b[1mColumn specification\u001b[22m \u001b[36m────────────────────────────────────────────────────────\u001b[39m\n",
            "\u001b[1mDelimiter:\u001b[22m \"\\t\"\n",
            "\u001b[31mchr\u001b[39m  (1): Name\n",
            "\u001b[32mdbl\u001b[39m (37): Vial.number, Patient.number, GPHDL1, GPHDL2, GPHDL3, GPHDL4, GPHDL...\n",
            "\n",
            "\u001b[36mℹ\u001b[39m Use `spec()` to retrieve the full column specification for this data.\n",
            "\u001b[36mℹ\u001b[39m Specify the column types or set `show_col_types = FALSE` to quiet this message.\n",
            "\u001b[1mRows: \u001b[22m\u001b[34m29\u001b[39m \u001b[1mColumns: \u001b[22m\u001b[34m38\u001b[39m\n",
            "\u001b[36m──\u001b[39m \u001b[1mColumn specification\u001b[22m \u001b[36m────────────────────────────────────────────────────────\u001b[39m\n",
            "\u001b[1mDelimiter:\u001b[22m \"\\t\"\n",
            "\u001b[31mchr\u001b[39m  (1): Name\n",
            "\u001b[32mdbl\u001b[39m (37): Vial.number, Patient.number, GPLDL1, GPLDL2, GPLDL3, GPLDL4, GPLDL...\n",
            "\n",
            "\u001b[36mℹ\u001b[39m Use `spec()` to retrieve the full column specification for this data.\n",
            "\u001b[36mℹ\u001b[39m Specify the column types or set `show_col_types = FALSE` to quiet this message.\n"
          ]
        }
      ]
    },
    {
      "cell_type": "code",
      "source": [
        "url <- 'https://github.com/nedokormysh/GB_App_Statistics_Med/raw/lesson_2_descriptive_statistics/metadata.xlsx'\n",
        "\n",
        "response <- GET(url, write_disk(\"metadata.xlsx\", overwrite = TRUE))\n",
        "\n",
        "meta <- read_xlsx('/content/metadata.xlsx', sheet = 1) |>\n",
        "  rename_with(make.names)\n",
        "\n",
        "descriptive <- read_xlsx('/content/metadata.xlsx', sheet = 2) |>\n",
        "  rename('Variable' = '...1', 'Description' = '...2') |>\n",
        "  drop_na()\n",
        "\n",
        "descriptive <- descriptive %>%\n",
        "  mutate(Variable = ifelse(row_number() == 10, \"LVH\", Variable))\n",
        "\n",
        "for (col_name in colnames(meta)) {\n",
        "  index <- match(col_name, descriptive$Variable)\n",
        "\n",
        "  if (!is.na(index)) {\n",
        "    attr(meta[[col_name]], 'label') <- descriptive$Description[index]\n",
        "  }\n",
        "}"
      ],
      "metadata": {
        "id": "MEq7XmihTD2b"
      },
      "execution_count": null,
      "outputs": []
    },
    {
      "cell_type": "code",
      "source": [
        "# Выбираем столбцы с данными пациентов\n",
        "patient_cols <- c('Vial.number',\n",
        "                  'Patient.number',\n",
        "                  'Name',\n",
        "                  'Date',\n",
        "                  'Age')\n",
        "\n",
        "\n",
        "# Создаем таблицу с данными пациентов\n",
        "patient_data <- meta[patient_cols]\n",
        "\n",
        "# Создаем таблицу с клиническими данными\n",
        "clinical_data <- meta |> select(-Name, -Age, -Date, -Sucrose)\n",
        "\n",
        "# заменяем 3 точки на точку во всех названиях столбцов\n",
        "colnames(clinical_data) <- sub(\"\\\\.+\", \".\", colnames(clinical_data))\n",
        "\n",
        "colnames_factor = c('Vial.number', 'Patient.number', 'Group', 'Sm', 'Dm', 'HT',\n",
        "                    'LVH', 'IHD', 'MI', 'Str', 'A_C', 'A_H', 'A_D', 'Plaque',\n",
        "                    'Statins')\n",
        "\n",
        "# преобразуем указанные столбцы в фактор\n",
        "clinical_data[, colnames_factor] <- lapply(clinical_data[, colnames_factor], as.factor)"
      ],
      "metadata": {
        "id": "zA0EnTrykYZO"
      },
      "execution_count": null,
      "outputs": []
    },
    {
      "cell_type": "markdown",
      "source": [
        "# Гипотезы"
      ],
      "metadata": {
        "id": "I2JXRadS51Lt"
      }
    },
    {
      "cell_type": "markdown",
      "source": [
        "## Гипотеза 1:\n",
        "У пациентов с сахарным диабетом (Dm=1) средний уровень триглицеридов (Tgi) выше, чем у пациентов без сахарного диабета (Dm=0).\n",
        "\n",
        "**Нулевая гипотеза (H0):** Средний уровень триглицеридов у пациентов с сахарным диабетом равен среднему уровню триглицеридов у пациентов без сахарного диабета.\n",
        "\n",
        "**Альтернативная гипотеза (H1):** Средний уровень триглицеридов у пациентов с сахарным диабетом выше, чем средний уровень триглицеридов у пациентов без сахарного диабета.\n",
        "\n",
        "ЗП - уровень триглицеридов.\n",
        "\n",
        "НП - наличие сахарного диабета.\n",
        "\n",
        "Независимые выборки."
      ],
      "metadata": {
        "id": "BFLL5_ZNoztD"
      }
    },
    {
      "cell_type": "code",
      "source": [
        "clinical_data_no_na <- na.omit(clinical_data)"
      ],
      "metadata": {
        "id": "37FlIQTRo7Qy"
      },
      "execution_count": null,
      "outputs": []
    },
    {
      "cell_type": "markdown",
      "source": [
        "Ранее определили, что у нас ненормальное распределение и использовали непараметрический тест Манна-Уитни. наблюдаемое различие между группами не является статистически значимым при уровне значимости 0.05."
      ],
      "metadata": {
        "id": "dcfV_ju5rc-p"
      }
    },
    {
      "cell_type": "code",
      "source": [
        "mann_whitney_test_decision <- function(formula, data) {\n",
        "  # Выполняем тест Манна-Уитни\n",
        "  test_result <- wilcox.test(formula, data = data, alternative = \"two.sided\", exact = FALSE)\n",
        "\n",
        "  # Извлекаем p-значение\n",
        "  p_value <- test_result$p.value\n",
        "\n",
        "  # Делаем вывод о нулевой гипотезе\n",
        "  if (p_value < 0.05) {\n",
        "    decision <- \"Отвергаем нулевую гипотезу\"\n",
        "  } else {\n",
        "    decision <- \"Не отвергаем нулевую гипотезу\"\n",
        "  }\n",
        "\n",
        "  # Выводим результаты\n",
        "  cat(\"Результаты теста Манна-Уитни:\\n\")\n",
        "  cat(\"W-статистика: \", test_result$statistic, \"\\n\")\n",
        "  cat(\"p-значение: \", p_value, \"\\n\")\n",
        "  cat(\"Решение: \", decision, \"\\n\")\n",
        "}"
      ],
      "metadata": {
        "id": "GCT218-CrbET"
      },
      "execution_count": null,
      "outputs": []
    },
    {
      "cell_type": "code",
      "source": [
        "mann_whitney_test_decision(Tgi.26 ~ Dm, data = clinical_data_no_na)"
      ],
      "metadata": {
        "colab": {
          "base_uri": "https://localhost:8080/"
        },
        "id": "W5Pk-wdTsAZu",
        "outputId": "8b19a304-3ca9-4b36-8538-2f1e2ca6f289"
      },
      "execution_count": null,
      "outputs": [
        {
          "output_type": "stream",
          "name": "stdout",
          "text": [
            "Результаты теста Манна-Уитни:\n",
            "W-статистика:  42.5 \n",
            "p-значение:  0.8376886 \n",
            "Решение:  Не отвергаем нулевую гипотезу \n"
          ]
        }
      ]
    },
    {
      "cell_type": "code",
      "source": [
        "# вариант из лекции\n",
        "\n",
        "# # Вычислим разницу средних значений между группами:\n",
        "\n",
        "# ac_diffs <- clinical_data_no_na %>%\n",
        "#   group_by(Dm) %>%\n",
        "#   summarize(mean_tgi = mean(Tgi.26)) %>%\n",
        "#   summarize(diff_tgi = diff(mean_tgi))\n",
        "\n",
        "# # Зададим количество перестановок:\n",
        "# reps <- 1000\n",
        "\n",
        "# # Создадим пустой вектор для хранения перестановочных статистик:\n",
        "\n",
        "# permdiffs <- c()\n",
        "\n",
        "# # Выполним перестановочный тест:\n",
        "\n",
        "# for(i in 1:reps) {\n",
        "#   onediff <- clinical_data_no_na %>%\n",
        "#     mutate(perm_dm = sample(Dm)) %>%\n",
        "#     group_by(perm_dm) %>%\n",
        "#     summarize(mean_tgi = mean(Tgi.26)) %>%\n",
        "#     summarize(diff(mean_tgi)) %>% pull()\n",
        "\n",
        "#   permdiffs <- c(permdiffs, onediff)\n",
        "# }\n",
        "\n",
        "# # Вычислим p-значение:\n",
        "\n",
        "# p_value <- sum(permdiffs >= ac_diffs$diff_tgi) / reps\n",
        "\n",
        "\n",
        "# # Выведем результаты:\n",
        "\n",
        "# cat(\"Результаты перестановочного теста:\\n\")\n",
        "# cat(\"Наблюдаемая разница между средними значениями: \", ac_diffs$diff_tgi, \"\\n\")\n",
        "# cat(\"p-значение: \", p_value, \"\\n\")\n",
        "\n",
        "# if (p_value < 0.05) {\n",
        "#   decision <- \"Отвергаем нулевую гипотезу\"\n",
        "# } else {\n",
        "#   decision <- \"Не отвергаем нулевую гипотезу\"\n",
        "# }\n",
        "\n",
        "# cat(\"Решение: \", decision, \"\\n\")"
      ],
      "metadata": {
        "id": "9Znp-bVK0d1a"
      },
      "execution_count": null,
      "outputs": []
    },
    {
      "cell_type": "code",
      "source": [
        "permutation_bootstrap_jack_test <- function(formula, data, n_permutations = 10000, n_bootstraps = 1000) {\n",
        "  # Извлекаем данные из формулы и данных\n",
        "  y <- model.response(model.frame(formula, data))\n",
        "  x <- model.matrix(formula, data)[, -1]\n",
        "\n",
        "  # Вычисляем наблюдаемую разницу между средними значениями\n",
        "  obs_diff <- mean(y[x == 1]) - mean(y[x == 0])\n",
        "\n",
        "  # Вычисляем истинное среднее значение\n",
        "  true_mean <- mean(y)\n",
        "\n",
        "  # Инициализируем вектор для хранения перестановочных статистик\n",
        "  perm_diffs <- numeric(n_permutations)\n",
        "\n",
        "  # Выполняем перестановочные тесты\n",
        "  for (i in 1:n_permutations) {\n",
        "    # Перемешиваем метки классов\n",
        "    x_perm <- sample(x)\n",
        "\n",
        "    # Вычисляем перестановочную статистику\n",
        "    perm_diffs[i] <- mean(y[x_perm == 1]) - mean(y[x_perm == 0])\n",
        "  }\n",
        "\n",
        "  # Вычисляем p-значение\n",
        "  p_value <- sum(perm_diffs >= obs_diff) / n_permutations\n",
        "\n",
        "  # Выполняем бутстреп-выборки\n",
        "  boot_diffs <- numeric(n_bootstraps)\n",
        "  for (i in 1:n_bootstraps) {\n",
        "    # Генерируем выборку с заменой из исходных данных\n",
        "    boot_sample <- sample(1:length(y), replace = TRUE)\n",
        "\n",
        "    # Вычисляем бутстреп-статистику\n",
        "    boot_diffs[i] <- mean(y[boot_sample][x[boot_sample] == 1]) - mean(y[boot_sample][x[boot_sample] == 0])\n",
        "  }\n",
        "\n",
        "  # Удаляем пропущенные значения или значения NaN из вектора boot_diffs\n",
        "  boot_diffs_no_na <- na.omit(boot_diffs)\n",
        "\n",
        "  # Вычисляем доверительный интервал для нашей оценки статистики\n",
        "  conf_int <- quantile(boot_diffs_no_na, c(0.025, 0.975))\n",
        "\n",
        "  # Вычисляем статистику jackknife\n",
        "  jack_diffs <- numeric(length(y))\n",
        "  for (i in 1:length(y)) {\n",
        "    # Удаляем i-тое наблюдение из выборки\n",
        "    y_jack <- y[-i]\n",
        "    x_jack <- x[-i]\n",
        "\n",
        "    # Вычисляем статистику jackknife\n",
        "    jack_diffs[i] <- mean(y_jack[x_jack == 1]) - mean(y_jack[x_jack == 0])\n",
        "  }\n",
        "\n",
        "  # Вычисляем среднее и стандартное отклонение для статистики jackknife\n",
        "  jack_mean <- mean(jack_diffs)\n",
        "  jack_sd <- sd(jack_diffs)\n",
        "\n",
        "  # Вычисляем доверительный интервал для статистики jackknife\n",
        "  jack_conf_int <- jack_mean + c(-1, 1) * qt(0.975, length(y) - 1) * jack_sd / sqrt(length(y))\n",
        "\n",
        "  # Делаем вывод о нулевой гипотезе\n",
        "  if (p_value < 0.05) {\n",
        "    decision <- \"Отвергаем нулевую гипотезу\"\n",
        "  } else {\n",
        "    decision <- \"Не отвергаем нулевую гипотезу\"\n",
        "  }\n",
        "\n",
        "  # Выводим результаты\n",
        "  cat(\"Результаты перестановочного теста:\\n\")\n",
        "  cat(\"Наблюдаемая разница между средними значениями групп: \", obs_diff, \"\\n\")\n",
        "  cat(\"Истинное среднее значение: \", true_mean, \"\\n\")\n",
        "  cat(\"p-значение: \", p_value, \"\\n\")\n",
        "  cat(\"Решение: \", decision, \"\\n\")\n",
        "  cat(\"\\nРезультаты бутстреп-теста:\\n\")\n",
        "  cat(\"Доверительный интервал: [\", conf_int[1], \", \", conf_int[2], \"]\\n\")\n",
        "\n",
        "  # Делаем вывод о бутстреп-тесте\n",
        "  if (conf_int[1] > 0 || conf_int[2] < 0) {\n",
        "    bootstrap_decision <- \"Отвергаем нулевую гипотезу\"\n",
        "  } else {\n",
        "    bootstrap_decision <- \"Не отвергаем нулевую гипотезу\"\n",
        "  }\n",
        "  cat(\"Решение на основе бутстреп-теста: \", bootstrap_decision, \"\\n\")\n",
        "\n",
        "  cat(\"\\nРезультаты jackknife-теста:\\n\")\n",
        "  cat(\"Разница между средними значениями групп: \", jack_mean, \"\\n\")\n",
        "  cat(\"Стандартное отклонение: \", jack_sd, \"\\n\")\n",
        "  cat(\"Доверительный интервал: [\", jack_conf_int[1], \", \", jack_conf_int[2], \"]\\n\")\n",
        "\n",
        "  # Делаем вывод на основе jackknife-теста\n",
        "  if (jack_conf_int[1] > 0 || jack_conf_int[2] < 0) {\n",
        "    jackknife_decision <- \"Отвергаем нулевую гипотезу\"\n",
        "  } else {\n",
        "    jackknife_decision <- \"Не отвергаем нулевую гипотезу\"\n",
        "  }\n",
        "\n",
        "  cat(\"Решение на основе jackknife-теста: \", jackknife_decision, \"\\n\")\n",
        "}\n"
      ],
      "metadata": {
        "id": "yxca7zUm5X-a"
      },
      "execution_count": null,
      "outputs": []
    },
    {
      "cell_type": "code",
      "source": [
        "permutation_bootstrap_jack_test(Tgi.26 ~ Dm, data = clinical_data_no_na)"
      ],
      "metadata": {
        "colab": {
          "base_uri": "https://localhost:8080/"
        },
        "id": "mV2MckVR1pfe",
        "outputId": "0ff69960-0791-4c13-834a-e015fc3ec364"
      },
      "execution_count": null,
      "outputs": [
        {
          "output_type": "stream",
          "name": "stdout",
          "text": [
            "Результаты перестановочного теста:\n",
            "Наблюдаемая разница между средними значениями групп:  -7.326087 \n",
            "Истинное среднее значение:  129.7407 \n",
            "p-значение:  0.5286 \n",
            "Решение:  Не отвергаем нулевую гипотезу \n",
            "\n",
            "Результаты бутстреп-теста:\n",
            "Доверительный интервал: [ -61.96665 ,  41.84208 ]\n",
            "Решение на основе бутстреп-теста:  Не отвергаем нулевую гипотезу \n",
            "\n",
            "Результаты jackknife-теста:\n",
            "Разница между средними значениями групп:  -7.326087 \n",
            "Стандартное отклонение:  5.821651 \n",
            "Доверительный интервал: [ -9.629056 ,  -5.023118 ]\n",
            "Решение на основе jackknife-теста:  Отвергаем нулевую гипотезу \n"
          ]
        }
      ]
    },
    {
      "cell_type": "markdown",
      "source": [
        "Насколько я понимаю: если доверительный интервал для разницы между средними значениями не включает ноль, мы можем отвергнуть нулевую гипотезу о том, что средние значения в группах равны. В противном случае, если доверительный интервал включает ноль, мы не можем отвергнуть нулевую гипотезу.\n",
        "\n",
        "В нашем случае, jackknife-тест показывает, что разница между средними значениями групп статистически значима, в то время как перестановочный тест и бутстреп-тест не подтверждают это. Возможно это может быть вызвано тем, что jackknife-тест более чувствителен к выбросам и другим особенностям данных, которые могут влиять на статистику."
      ],
      "metadata": {
        "id": "OpBMPMPcDlgU"
      }
    },
    {
      "cell_type": "code",
      "source": [
        "# bootstrap ---------------------------------------------------------------\n",
        "\n",
        "myfn_i <- function(x, i) {return(sum(x[i])/length(x[i]))}\n",
        "myfn_w <- function(x, w) {return(sum(x*w)/length(x))}\n",
        "result <- boot(clinical_data_no_na$Tgi.26, myfn_i, R = 999)"
      ],
      "metadata": {
        "id": "DuZ37aqB7IhM"
      },
      "execution_count": null,
      "outputs": []
    },
    {
      "cell_type": "code",
      "source": [
        "result\n",
        "plot(result)\n",
        "quantile(result$t, c(0.025, 0.975))\n",
        "mean(clinical_data_no_na$Tgi.26)"
      ],
      "metadata": {
        "colab": {
          "base_uri": "https://localhost:8080/",
          "height": 663
        },
        "id": "SDL3vmt27dtr",
        "outputId": "597f11fd-2018-4644-ac77-39993fa8861d"
      },
      "execution_count": null,
      "outputs": [
        {
          "output_type": "display_data",
          "data": {
            "text/plain": [
              "\n",
              "ORDINARY NONPARAMETRIC BOOTSTRAP\n",
              "\n",
              "\n",
              "Call:\n",
              "boot(data = clinical_data_no_na$Tgi.26, statistic = myfn_i, R = 999)\n",
              "\n",
              "\n",
              "Bootstrap Statistics :\n",
              "    original    bias    std. error\n",
              "t1* 129.7407 0.1882994    12.57006"
            ]
          },
          "metadata": {}
        },
        {
          "output_type": "display_data",
          "data": {
            "text/html": [
              "<style>\n",
              ".dl-inline {width: auto; margin:0; padding: 0}\n",
              ".dl-inline>dt, .dl-inline>dd {float: none; width: auto; display: inline-block}\n",
              ".dl-inline>dt::after {content: \":\\0020\"; padding-right: .5ex}\n",
              ".dl-inline>dt:not(:first-of-type) {padding-left: .5ex}\n",
              "</style><dl class=dl-inline><dt>2.5%</dt><dd>107.957407407407</dd><dt>97.5%</dt><dd>156.337037037037</dd></dl>\n"
            ],
            "text/markdown": "2.5%\n:   107.95740740740797.5%\n:   156.337037037037\n\n",
            "text/latex": "\\begin{description*}\n\\item[2.5\\textbackslash{}\\%] 107.957407407407\n\\item[97.5\\textbackslash{}\\%] 156.337037037037\n\\end{description*}\n",
            "text/plain": [
              "    2.5%    97.5% \n",
              "107.9574 156.3370 "
            ]
          },
          "metadata": {}
        },
        {
          "output_type": "display_data",
          "data": {
            "text/html": [
              "129.740740740741"
            ],
            "text/markdown": "129.740740740741",
            "text/latex": "129.740740740741",
            "text/plain": [
              "[1] 129.7407"
            ]
          },
          "metadata": {}
        },
        {
          "output_type": "display_data",
          "data": {
            "text/plain": [
              "Plot with title “Histogram of t”"
            ],
            "image/png": "[encoded data removed]"
          },
          "metadata": {
            "image/png": {
              "width": 420,
              "height": 420
            }
          }
        }
      ]
    },
    {
      "cell_type": "markdown",
      "source": [
        "Распределение средних - нормальное. Среднее совпадает со средним полученным на бутстрепе."
      ],
      "metadata": {
        "id": "QKG3agLw8346"
      }
    },
    {
      "cell_type": "code",
      "source": [
        "# jackknife ----------------------------------------------------------------\n",
        "\n",
        "theta <- function(x){mean(x)}\n",
        "\n",
        "results <- jackknife(clinical_data_no_na$Tgi.26, theta)\n",
        "results\n",
        "\n",
        "ggplot(as_tibble(results$jack.values), aes(value)) +\n",
        "  geom_histogram() +\n",
        "  geom_vline(xintercept = mean(clinical_data_no_na$Tgi.26), color = 'red3', pty = 1) +\n",
        "  geom_vline(xintercept = mean(results$jack.values), color = 'purple2', pty = 1) +\n",
        "  theme_minimal()\n",
        "\n",
        "hist(results$jack.values)"
      ],
      "metadata": {
        "colab": {
          "base_uri": "https://localhost:8080/",
          "height": 1000
        },
        "id": "VG8_i5eQ8A29",
        "outputId": "ada70d17-0965-4d7e-b165-9d3815734920"
      },
      "execution_count": null,
      "outputs": [
        {
          "output_type": "display_data",
          "data": {
            "text/plain": [
              "$jack.se\n",
              "[1] 12.5752\n",
              "\n",
              "$jack.bias\n",
              "[1] 0\n",
              "\n",
              "$jack.values\n",
              " [1] 129.1154 129.6538 130.0769 130.3462 129.2308 122.9231 130.2308 128.8077\n",
              " [9] 130.6923 128.4231 129.5769 133.3846 127.7308 130.3462 131.8462 122.5385\n",
              "[17] 132.7308 130.6923 132.1154 130.2308 132.2692 127.9615 131.1538 132.8077\n",
              "[25] 130.0385 128.3077 129.7692\n",
              "\n",
              "$call\n",
              "jackknife(x = clinical_data_no_na$Tgi.26, theta = theta)\n"
            ]
          },
          "metadata": {}
        },
        {
          "output_type": "stream",
          "name": "stderr",
          "text": [
            "Warning message:\n",
            "“Ignoring unknown parameters: pty”\n",
            "Warning message:\n",
            "“Ignoring unknown parameters: pty”\n",
            "`stat_bin()` using `bins = 30`. Pick better value with `binwidth`.\n",
            "\n"
          ]
        },
        {
          "output_type": "display_data",
          "data": {
            "text/plain": [
              "plot without title"
            ],
            "image/png": "[encoded data removed]"
          },
          "metadata": {
            "image/png": {
              "width": 420,
              "height": 420
            }
          }
        },
        {
          "output_type": "display_data",
          "data": {
            "text/plain": [
              "Plot with title “Histogram of results$jack.values”"
            ],
            "image/png": "[encoded data removed]"
          },
          "metadata": {
            "image/png": {
              "width": 420,
              "height": 420
            }
          }
        }
      ]
    },
    {
      "cell_type": "markdown",
      "source": [
        "## Гипотеза 2:\n",
        "\n",
        "У пациентов с гипертонией (HT=1) средний уровень холестерина (Choi) выше, чем у пациентов без гипертонии (HT=0).\n",
        "\n",
        "**Нулевая гипотеза (H0):** Средний уровень холестерина у пациентов с гипертонией равен среднему уровню холестерина у пациентов без гипертонии.\n",
        "\n",
        "**Альтернативная гипотеза (H1):** Средний уровень холестерина у пациентов с гипертонией выше, чем средний уровень холестерина у пациентов без гипертонии.\n",
        "\n",
        "ЗП - общий уровень холистерина.\n",
        "\n",
        "НП - наличие гипертонии.\n",
        "\n",
        "Независимые выборки.\n",
        "\n",
        "Тут вроде бы можем использовать t-test."
      ],
      "metadata": {
        "id": "LGb8Lk6_-_ve"
      }
    },
    {
      "cell_type": "code",
      "source": [
        "t_test_decision <- function(formula, data) {\n",
        "  # Выполняем t-тест\n",
        "  test_result <- t.test(formula, data = data, na.action = na.omit)\n",
        "  # Извлекаем p-значение\n",
        "  p_value <- test_result$p.value\n",
        "\n",
        "  # Делаем вывод о нулевой гипотезе\n",
        "  if (p_value < 0.05) {\n",
        "    decision <- \"Отвергаем нулевую гипотезу\"\n",
        "  } else {\n",
        "    decision <- \"Не отвергаем нулевую гипотезу\"\n",
        "  }\n",
        "\n",
        "  # Выводим результаты\n",
        "  cat(\"Результаты теста t-теста:\\n\")\n",
        "  cat(\"W-статистика: \", test_result$statistic, \"\\n\")\n",
        "  cat(\"p-значение: \", p_value, \"\\n\")\n",
        "  cat(\"Решение: \", decision, \"\\n\")\n",
        "}"
      ],
      "metadata": {
        "id": "1rDPmNid_ZVL"
      },
      "execution_count": null,
      "outputs": []
    },
    {
      "cell_type": "code",
      "source": [
        "t_test_decision(Choi.25 ~ HT, data = clinical_data)"
      ],
      "metadata": {
        "colab": {
          "base_uri": "https://localhost:8080/"
        },
        "id": "a65Utn2f_uH8",
        "outputId": "ea7b2b65-d4f6-4293-eca9-5dda64cb92d7"
      },
      "execution_count": null,
      "outputs": [
        {
          "output_type": "stream",
          "name": "stdout",
          "text": [
            "Результаты теста t-теста:\n",
            "W-статистика:  -0.7849318 \n",
            "p-значение:  0.4378333 \n",
            "Решение:  Не отвергаем нулевую гипотезу \n"
          ]
        }
      ]
    },
    {
      "cell_type": "code",
      "source": [
        "permutation_bootstrap_jack_test(Choi.25 ~ HT, data = clinical_data)"
      ],
      "metadata": {
        "colab": {
          "base_uri": "https://localhost:8080/"
        },
        "id": "I5GAal9H_5G6",
        "outputId": "c99509ef-c6ce-4daf-8af2-e8eae0a027e8"
      },
      "execution_count": null,
      "outputs": [
        {
          "output_type": "stream",
          "name": "stdout",
          "text": [
            "Результаты перестановочного теста:\n",
            "Наблюдаемая разница между средними значениями групп:  10.25217 \n",
            "Истинное среднее значение:  240.6053 \n",
            "p-значение:  0.2217 \n",
            "Решение:  Не отвергаем нулевую гипотезу \n",
            "\n",
            "Результаты бутстреп-теста:\n",
            "Доверительный интервал: [ -11.68512 ,  34.88357 ]\n",
            "Решение на основе бутстреп-теста:  Не отвергаем нулевую гипотезу \n",
            "\n",
            "Результаты jackknife-теста:\n",
            "Разница между средними значениями групп:  10.25217 \n",
            "Стандартное отклонение:  2.20874 \n",
            "Доверительный интервал: [ 9.526179 ,  10.97817 ]\n",
            "Решение на основе jackknife-теста:  Отвергаем нулевую гипотезу \n"
          ]
        }
      ]
    }
  ]
}